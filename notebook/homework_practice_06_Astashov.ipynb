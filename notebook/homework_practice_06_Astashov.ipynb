{
 "cells": [
  {
   "cell_type": "markdown",
   "metadata": {
    "id": "ef6180WvQbD-"
   },
   "source": [
    "# Введение\n",
    "\n",
    "В этом задании Вы продолжите работать с данными из семинара [Articles Sharing and Reading from CI&T Deskdrop](https://www.kaggle.com/gspmoreira/articles-sharing-reading-from-cit-deskdrop). Если нет аккаунта на кеггле, скачать датасет можно [здесь](https://drive.google.com/file/d/1rLSr49zx6RPZIn7PV_LQr9KnnpPhrr0K/view?usp=sharing)."
   ]
  },
  {
   "cell_type": "markdown",
   "metadata": {
    "id": "wkyFpWQOBC38"
   },
   "source": [
    "https://github.com/hse-mlds/ml/blob/main/base_group/lesson_18/MLHS_Recsys_1.ipynb\n",
    "\n",
    "https://github.com/hse-mlds/ml/blob/main/base_group/lesson_18/MLHS_recsys_2.ipynb"
   ]
  },
  {
   "cell_type": "markdown",
   "metadata": {
    "id": "nSV_mxD9TciM"
   },
   "source": [
    "# Загрузка и предобработка данных"
   ]
  },
  {
   "cell_type": "code",
   "execution_count": 1,
   "metadata": {
    "id": "M5mH3ZolSlcm"
   },
   "outputs": [],
   "source": [
    "import math\n",
    "\n",
    "import numpy as np\n",
    "import pandas as pd"
   ]
  },
  {
   "cell_type": "markdown",
   "metadata": {
    "id": "PRQVuRvER0hd"
   },
   "source": [
    "Загрузим данные и проведем предобраотку данных как на семинаре."
   ]
  },
  {
   "cell_type": "code",
   "execution_count": 2,
   "metadata": {
    "colab": {
     "base_uri": "https://localhost:8080/"
    },
    "id": "aisNHIep60TD",
    "outputId": "1b687d0f-10c7-49e9-ef68-52de0df6d488"
   },
   "outputs": [
    {
     "output_type": "stream",
     "name": "stdout",
     "text": [
      "/usr/local/lib/python3.10/dist-packages/gdown/cli.py:138: FutureWarning: Option `--id` was deprecated in version 4.3.1 and will be removed in 5.0. You don't need to pass it anymore to use a file ID.\n",
      "  warnings.warn(\n",
      "Downloading...\n",
      "From: https://drive.google.com/uc?id=1932O9d4D1_ohjeV-VivI2oucVQCihK0L\n",
      "To: /content/DeskDrop-Articles.zip\n",
      "100% 8.59M/8.59M [00:00<00:00, 53.4MB/s]\n",
      "Archive:  ./DeskDrop-Articles.zip\n",
      "  inflating: data/shared_articles.csv  \n",
      "  inflating: data/users_interactions.csv  \n"
     ]
    }
   ],
   "source": [
    "!gdown --id 1932O9d4D1_ohjeV-VivI2oucVQCihK0L\n",
    "!mkdir data\n",
    "!unzip ./DeskDrop-Articles.zip -d data\n",
    "!rm DeskDrop-Articles.zip"
   ]
  },
  {
   "cell_type": "code",
   "execution_count": 3,
   "metadata": {
    "id": "GtFYYP1377Au"
   },
   "outputs": [],
   "source": [
    "PATH_DATA = \"./data\""
   ]
  },
  {
   "cell_type": "code",
   "execution_count": 4,
   "metadata": {
    "colab": {
     "base_uri": "https://localhost:8080/",
     "height": 392
    },
    "id": "hdM1xSchR9jt",
    "outputId": "7de0be80-890e-4849-92e5-4cd6b0318a69"
   },
   "outputs": [
    {
     "output_type": "execute_result",
     "data": {
      "text/plain": [
       "    timestamp       eventType            contentId       authorPersonId  \\\n",
       "1  1459193988  CONTENT SHARED -4110354420726924665  4340306774493623681   \n",
       "2  1459194146  CONTENT SHARED -7292285110016212249  4340306774493623681   \n",
       "\n",
       "       authorSessionId authorUserAgent authorRegion authorCountry contentType  \\\n",
       "1  8940341205206233829             NaN          NaN           NaN        HTML   \n",
       "2  8940341205206233829             NaN          NaN           NaN        HTML   \n",
       "\n",
       "                                                 url  \\\n",
       "1  http://www.nytimes.com/2016/03/28/business/dea...   \n",
       "2  http://cointelegraph.com/news/bitcoin-future-w...   \n",
       "\n",
       "                                               title  \\\n",
       "1  Ethereum, a Virtual Currency, Enables Transact...   \n",
       "2  Bitcoin Future: When GBPcoin of Branson Wins O...   \n",
       "\n",
       "                                                text lang  \n",
       "1  All of this work is still very early. The firs...   en  \n",
       "2  The alarm clock wakes me at 8:00 with stream o...   en  "
      ],
      "text/html": [
       "\n",
       "  <div id=\"df-f2ed5bb9-a857-4fbf-bdac-5cc361a9d4ba\" class=\"colab-df-container\">\n",
       "    <div>\n",
       "<style scoped>\n",
       "    .dataframe tbody tr th:only-of-type {\n",
       "        vertical-align: middle;\n",
       "    }\n",
       "\n",
       "    .dataframe tbody tr th {\n",
       "        vertical-align: top;\n",
       "    }\n",
       "\n",
       "    .dataframe thead th {\n",
       "        text-align: right;\n",
       "    }\n",
       "</style>\n",
       "<table border=\"1\" class=\"dataframe\">\n",
       "  <thead>\n",
       "    <tr style=\"text-align: right;\">\n",
       "      <th></th>\n",
       "      <th>timestamp</th>\n",
       "      <th>eventType</th>\n",
       "      <th>contentId</th>\n",
       "      <th>authorPersonId</th>\n",
       "      <th>authorSessionId</th>\n",
       "      <th>authorUserAgent</th>\n",
       "      <th>authorRegion</th>\n",
       "      <th>authorCountry</th>\n",
       "      <th>contentType</th>\n",
       "      <th>url</th>\n",
       "      <th>title</th>\n",
       "      <th>text</th>\n",
       "      <th>lang</th>\n",
       "    </tr>\n",
       "  </thead>\n",
       "  <tbody>\n",
       "    <tr>\n",
       "      <th>1</th>\n",
       "      <td>1459193988</td>\n",
       "      <td>CONTENT SHARED</td>\n",
       "      <td>-4110354420726924665</td>\n",
       "      <td>4340306774493623681</td>\n",
       "      <td>8940341205206233829</td>\n",
       "      <td>NaN</td>\n",
       "      <td>NaN</td>\n",
       "      <td>NaN</td>\n",
       "      <td>HTML</td>\n",
       "      <td>http://www.nytimes.com/2016/03/28/business/dea...</td>\n",
       "      <td>Ethereum, a Virtual Currency, Enables Transact...</td>\n",
       "      <td>All of this work is still very early. The firs...</td>\n",
       "      <td>en</td>\n",
       "    </tr>\n",
       "    <tr>\n",
       "      <th>2</th>\n",
       "      <td>1459194146</td>\n",
       "      <td>CONTENT SHARED</td>\n",
       "      <td>-7292285110016212249</td>\n",
       "      <td>4340306774493623681</td>\n",
       "      <td>8940341205206233829</td>\n",
       "      <td>NaN</td>\n",
       "      <td>NaN</td>\n",
       "      <td>NaN</td>\n",
       "      <td>HTML</td>\n",
       "      <td>http://cointelegraph.com/news/bitcoin-future-w...</td>\n",
       "      <td>Bitcoin Future: When GBPcoin of Branson Wins O...</td>\n",
       "      <td>The alarm clock wakes me at 8:00 with stream o...</td>\n",
       "      <td>en</td>\n",
       "    </tr>\n",
       "  </tbody>\n",
       "</table>\n",
       "</div>\n",
       "    <div class=\"colab-df-buttons\">\n",
       "\n",
       "  <div class=\"colab-df-container\">\n",
       "    <button class=\"colab-df-convert\" onclick=\"convertToInteractive('df-f2ed5bb9-a857-4fbf-bdac-5cc361a9d4ba')\"\n",
       "            title=\"Convert this dataframe to an interactive table.\"\n",
       "            style=\"display:none;\">\n",
       "\n",
       "  <svg xmlns=\"http://www.w3.org/2000/svg\" height=\"24px\" viewBox=\"0 -960 960 960\">\n",
       "    <path d=\"M120-120v-720h720v720H120Zm60-500h600v-160H180v160Zm220 220h160v-160H400v160Zm0 220h160v-160H400v160ZM180-400h160v-160H180v160Zm440 0h160v-160H620v160ZM180-180h160v-160H180v160Zm440 0h160v-160H620v160Z\"/>\n",
       "  </svg>\n",
       "    </button>\n",
       "\n",
       "  <style>\n",
       "    .colab-df-container {\n",
       "      display:flex;\n",
       "      gap: 12px;\n",
       "    }\n",
       "\n",
       "    .colab-df-convert {\n",
       "      background-color: #E8F0FE;\n",
       "      border: none;\n",
       "      border-radius: 50%;\n",
       "      cursor: pointer;\n",
       "      display: none;\n",
       "      fill: #1967D2;\n",
       "      height: 32px;\n",
       "      padding: 0 0 0 0;\n",
       "      width: 32px;\n",
       "    }\n",
       "\n",
       "    .colab-df-convert:hover {\n",
       "      background-color: #E2EBFA;\n",
       "      box-shadow: 0px 1px 2px rgba(60, 64, 67, 0.3), 0px 1px 3px 1px rgba(60, 64, 67, 0.15);\n",
       "      fill: #174EA6;\n",
       "    }\n",
       "\n",
       "    .colab-df-buttons div {\n",
       "      margin-bottom: 4px;\n",
       "    }\n",
       "\n",
       "    [theme=dark] .colab-df-convert {\n",
       "      background-color: #3B4455;\n",
       "      fill: #D2E3FC;\n",
       "    }\n",
       "\n",
       "    [theme=dark] .colab-df-convert:hover {\n",
       "      background-color: #434B5C;\n",
       "      box-shadow: 0px 1px 3px 1px rgba(0, 0, 0, 0.15);\n",
       "      filter: drop-shadow(0px 1px 2px rgba(0, 0, 0, 0.3));\n",
       "      fill: #FFFFFF;\n",
       "    }\n",
       "  </style>\n",
       "\n",
       "    <script>\n",
       "      const buttonEl =\n",
       "        document.querySelector('#df-f2ed5bb9-a857-4fbf-bdac-5cc361a9d4ba button.colab-df-convert');\n",
       "      buttonEl.style.display =\n",
       "        google.colab.kernel.accessAllowed ? 'block' : 'none';\n",
       "\n",
       "      async function convertToInteractive(key) {\n",
       "        const element = document.querySelector('#df-f2ed5bb9-a857-4fbf-bdac-5cc361a9d4ba');\n",
       "        const dataTable =\n",
       "          await google.colab.kernel.invokeFunction('convertToInteractive',\n",
       "                                                    [key], {});\n",
       "        if (!dataTable) return;\n",
       "\n",
       "        const docLinkHtml = 'Like what you see? Visit the ' +\n",
       "          '<a target=\"_blank\" href=https://colab.research.google.com/notebooks/data_table.ipynb>data table notebook</a>'\n",
       "          + ' to learn more about interactive tables.';\n",
       "        element.innerHTML = '';\n",
       "        dataTable['output_type'] = 'display_data';\n",
       "        await google.colab.output.renderOutput(dataTable, element);\n",
       "        const docLink = document.createElement('div');\n",
       "        docLink.innerHTML = docLinkHtml;\n",
       "        element.appendChild(docLink);\n",
       "      }\n",
       "    </script>\n",
       "  </div>\n",
       "\n",
       "\n",
       "<div id=\"df-cb4cb571-edd4-4a04-9ee0-b64c2becfabb\">\n",
       "  <button class=\"colab-df-quickchart\" onclick=\"quickchart('df-cb4cb571-edd4-4a04-9ee0-b64c2becfabb')\"\n",
       "            title=\"Suggest charts\"\n",
       "            style=\"display:none;\">\n",
       "\n",
       "<svg xmlns=\"http://www.w3.org/2000/svg\" height=\"24px\"viewBox=\"0 0 24 24\"\n",
       "     width=\"24px\">\n",
       "    <g>\n",
       "        <path d=\"M19 3H5c-1.1 0-2 .9-2 2v14c0 1.1.9 2 2 2h14c1.1 0 2-.9 2-2V5c0-1.1-.9-2-2-2zM9 17H7v-7h2v7zm4 0h-2V7h2v10zm4 0h-2v-4h2v4z\"/>\n",
       "    </g>\n",
       "</svg>\n",
       "  </button>\n",
       "\n",
       "<style>\n",
       "  .colab-df-quickchart {\n",
       "      --bg-color: #E8F0FE;\n",
       "      --fill-color: #1967D2;\n",
       "      --hover-bg-color: #E2EBFA;\n",
       "      --hover-fill-color: #174EA6;\n",
       "      --disabled-fill-color: #AAA;\n",
       "      --disabled-bg-color: #DDD;\n",
       "  }\n",
       "\n",
       "  [theme=dark] .colab-df-quickchart {\n",
       "      --bg-color: #3B4455;\n",
       "      --fill-color: #D2E3FC;\n",
       "      --hover-bg-color: #434B5C;\n",
       "      --hover-fill-color: #FFFFFF;\n",
       "      --disabled-bg-color: #3B4455;\n",
       "      --disabled-fill-color: #666;\n",
       "  }\n",
       "\n",
       "  .colab-df-quickchart {\n",
       "    background-color: var(--bg-color);\n",
       "    border: none;\n",
       "    border-radius: 50%;\n",
       "    cursor: pointer;\n",
       "    display: none;\n",
       "    fill: var(--fill-color);\n",
       "    height: 32px;\n",
       "    padding: 0;\n",
       "    width: 32px;\n",
       "  }\n",
       "\n",
       "  .colab-df-quickchart:hover {\n",
       "    background-color: var(--hover-bg-color);\n",
       "    box-shadow: 0 1px 2px rgba(60, 64, 67, 0.3), 0 1px 3px 1px rgba(60, 64, 67, 0.15);\n",
       "    fill: var(--button-hover-fill-color);\n",
       "  }\n",
       "\n",
       "  .colab-df-quickchart-complete:disabled,\n",
       "  .colab-df-quickchart-complete:disabled:hover {\n",
       "    background-color: var(--disabled-bg-color);\n",
       "    fill: var(--disabled-fill-color);\n",
       "    box-shadow: none;\n",
       "  }\n",
       "\n",
       "  .colab-df-spinner {\n",
       "    border: 2px solid var(--fill-color);\n",
       "    border-color: transparent;\n",
       "    border-bottom-color: var(--fill-color);\n",
       "    animation:\n",
       "      spin 1s steps(1) infinite;\n",
       "  }\n",
       "\n",
       "  @keyframes spin {\n",
       "    0% {\n",
       "      border-color: transparent;\n",
       "      border-bottom-color: var(--fill-color);\n",
       "      border-left-color: var(--fill-color);\n",
       "    }\n",
       "    20% {\n",
       "      border-color: transparent;\n",
       "      border-left-color: var(--fill-color);\n",
       "      border-top-color: var(--fill-color);\n",
       "    }\n",
       "    30% {\n",
       "      border-color: transparent;\n",
       "      border-left-color: var(--fill-color);\n",
       "      border-top-color: var(--fill-color);\n",
       "      border-right-color: var(--fill-color);\n",
       "    }\n",
       "    40% {\n",
       "      border-color: transparent;\n",
       "      border-right-color: var(--fill-color);\n",
       "      border-top-color: var(--fill-color);\n",
       "    }\n",
       "    60% {\n",
       "      border-color: transparent;\n",
       "      border-right-color: var(--fill-color);\n",
       "    }\n",
       "    80% {\n",
       "      border-color: transparent;\n",
       "      border-right-color: var(--fill-color);\n",
       "      border-bottom-color: var(--fill-color);\n",
       "    }\n",
       "    90% {\n",
       "      border-color: transparent;\n",
       "      border-bottom-color: var(--fill-color);\n",
       "    }\n",
       "  }\n",
       "</style>\n",
       "\n",
       "  <script>\n",
       "    async function quickchart(key) {\n",
       "      const quickchartButtonEl =\n",
       "        document.querySelector('#' + key + ' button');\n",
       "      quickchartButtonEl.disabled = true;  // To prevent multiple clicks.\n",
       "      quickchartButtonEl.classList.add('colab-df-spinner');\n",
       "      try {\n",
       "        const charts = await google.colab.kernel.invokeFunction(\n",
       "            'suggestCharts', [key], {});\n",
       "      } catch (error) {\n",
       "        console.error('Error during call to suggestCharts:', error);\n",
       "      }\n",
       "      quickchartButtonEl.classList.remove('colab-df-spinner');\n",
       "      quickchartButtonEl.classList.add('colab-df-quickchart-complete');\n",
       "    }\n",
       "    (() => {\n",
       "      let quickchartButtonEl =\n",
       "        document.querySelector('#df-cb4cb571-edd4-4a04-9ee0-b64c2becfabb button');\n",
       "      quickchartButtonEl.style.display =\n",
       "        google.colab.kernel.accessAllowed ? 'block' : 'none';\n",
       "    })();\n",
       "  </script>\n",
       "</div>\n",
       "    </div>\n",
       "  </div>\n"
      ],
      "application/vnd.google.colaboratory.intrinsic+json": {
       "type": "dataframe",
       "variable_name": "articles_df",
       "summary": "{\n  \"name\": \"articles_df\",\n  \"rows\": 3047,\n  \"fields\": [\n    {\n      \"column\": \"timestamp\",\n      \"properties\": {\n        \"dtype\": \"number\",\n        \"std\": 7573604,\n        \"min\": 1459193988,\n        \"max\": 1488307871,\n        \"num_unique_values\": 3046,\n        \"samples\": [\n          1463872123,\n          1461883935,\n          1473474067\n        ],\n        \"semantic_type\": \"\",\n        \"description\": \"\"\n      }\n    },\n    {\n      \"column\": \"eventType\",\n      \"properties\": {\n        \"dtype\": \"category\",\n        \"num_unique_values\": 1,\n        \"samples\": [\n          \"CONTENT SHARED\"\n        ],\n        \"semantic_type\": \"\",\n        \"description\": \"\"\n      }\n    },\n    {\n      \"column\": \"contentId\",\n      \"properties\": {\n        \"dtype\": \"number\",\n        \"std\": 5376353246680225792,\n        \"min\": -9222795471790223670,\n        \"max\": 9222265156747237864,\n        \"num_unique_values\": 3047,\n        \"samples\": [\n          4609121753781446855\n        ],\n        \"semantic_type\": \"\",\n        \"description\": \"\"\n      }\n    },\n    {\n      \"column\": \"authorPersonId\",\n      \"properties\": {\n        \"dtype\": \"number\",\n        \"std\": 4390381592598052864,\n        \"min\": -9120685872592674274,\n        \"max\": 9210530975708218054,\n        \"num_unique_values\": 252,\n        \"samples\": [\n          -534549863526737439\n        ],\n        \"semantic_type\": \"\",\n        \"description\": \"\"\n      }\n    },\n    {\n      \"column\": \"authorSessionId\",\n      \"properties\": {\n        \"dtype\": \"number\",\n        \"std\": 5391586698043529216,\n        \"min\": -9212055154240885024,\n        \"max\": 9221043291398421991,\n        \"num_unique_values\": 2010,\n        \"samples\": [\n          8967586490626066216\n        ],\n        \"semantic_type\": \"\",\n        \"description\": \"\"\n      }\n    },\n    {\n      \"column\": \"authorUserAgent\",\n      \"properties\": {\n        \"dtype\": \"category\",\n        \"num_unique_values\": 114,\n        \"samples\": [\n          \"Mozilla/5.0 (Macintosh; Intel Mac OS X 10_12_2) AppleWebKit/537.36 (KHTML, like Gecko) Chrome/55.0.2883.95 Safari/537.36\"\n        ],\n        \"semantic_type\": \"\",\n        \"description\": \"\"\n      }\n    },\n    {\n      \"column\": \"authorRegion\",\n      \"properties\": {\n        \"dtype\": \"category\",\n        \"num_unique_values\": 19,\n        \"samples\": [\n          \"MG\"\n        ],\n        \"semantic_type\": \"\",\n        \"description\": \"\"\n      }\n    },\n    {\n      \"column\": \"authorCountry\",\n      \"properties\": {\n        \"dtype\": \"category\",\n        \"num_unique_values\": 5,\n        \"samples\": [\n          \"CA\"\n        ],\n        \"semantic_type\": \"\",\n        \"description\": \"\"\n      }\n    },\n    {\n      \"column\": \"contentType\",\n      \"properties\": {\n        \"dtype\": \"category\",\n        \"num_unique_values\": 3,\n        \"samples\": [\n          \"HTML\"\n        ],\n        \"semantic_type\": \"\",\n        \"description\": \"\"\n      }\n    },\n    {\n      \"column\": \"url\",\n      \"properties\": {\n        \"dtype\": \"string\",\n        \"num_unique_values\": 3023,\n        \"samples\": [\n          \"https://medium.mybridge.co/swift-top-10-articles-for-the-past-year-e4551a19121?gi=1f47a37d4e81\"\n        ],\n        \"semantic_type\": \"\",\n        \"description\": \"\"\n      }\n    },\n    {\n      \"column\": \"title\",\n      \"properties\": {\n        \"dtype\": \"string\",\n        \"num_unique_values\": 3003,\n        \"samples\": [\n          \"WATCH: Bacteria Invade Antibiotics And Transform Into Superbugs\"\n        ],\n        \"semantic_type\": \"\",\n        \"description\": \"\"\n      }\n    },\n    {\n      \"column\": \"text\",\n      \"properties\": {\n        \"dtype\": \"string\",\n        \"num_unique_values\": 3013,\n        \"samples\": [\n          \"Machine learning is the new battle cry for the cloud world. Until cloud computing came along, machine learning was out of reach for most enterprise IT shops. But now that it's in the cloud as a service, it's affordable. It should be no surprise that Amazon Web Services, Google, IBM, and Microsoft offer machine learning services in their clouds. Machine learning is valuable only for use cases that benefit from dynamic learning -- and there are not many of those. Examples of machine learning use cases include financial systems that deal with risk, medical diagnosis, or recommendation systems like those at Amazon.com. But the online transaction processing (OLTP) style of applications that run most businesses are not a good fit for machine learning. I've used machine learning for applications that needed to learn as they processed data, such as to recommend products or services from a website by observing the behavior of the person driving the browser. Over time, the application builds up knowledge that allows it to make good guesses about the user. In essence, it simulates humans' ability to dynamically learn through experiences. The problem is if you have a hammer, everything looks like a nail. Vendors pushing machine learning cloud services say it's a good fit for many applications that shouldn't use it at all. As a result, the technology will be overapplied and misused, wasting enterprise resources. Watch out for machine learning fever at your business -- use it where it truly makes sense, but avoid it elsewhere. You have too much necessary work to do to spend resources on unnecessary work.\"\n        ],\n        \"semantic_type\": \"\",\n        \"description\": \"\"\n      }\n    },\n    {\n      \"column\": \"lang\",\n      \"properties\": {\n        \"dtype\": \"category\",\n        \"num_unique_values\": 5,\n        \"samples\": [\n          \"pt\"\n        ],\n        \"semantic_type\": \"\",\n        \"description\": \"\"\n      }\n    }\n  ]\n}"
      }
     },
     "metadata": {},
     "execution_count": 4
    }
   ],
   "source": [
    "articles_df = pd.read_csv(f\"{PATH_DATA}/shared_articles.csv\")\n",
    "articles_df = articles_df[articles_df[\"eventType\"] == \"CONTENT SHARED\"]\n",
    "articles_df.head(2)"
   ]
  },
  {
   "cell_type": "code",
   "execution_count": 5,
   "metadata": {
    "colab": {
     "base_uri": "https://localhost:8080/",
     "height": 112
    },
    "id": "KK9wMAkvSjbk",
    "outputId": "045234b2-d0d2-4da0-b205-038f7eb864ff"
   },
   "outputs": [
    {
     "output_type": "execute_result",
     "data": {
      "text/plain": [
       "    timestamp eventType            contentId             personId  \\\n",
       "0  1465413032      VIEW -3499919498720038879 -8845298781299428018   \n",
       "1  1465412560      VIEW  8890720798209849691 -1032019229384696495   \n",
       "\n",
       "             sessionId                                          userAgent  \\\n",
       "0  1264196770339959068                                                NaN   \n",
       "1  3621737643587579081  Mozilla/5.0 (Macintosh; Intel Mac OS X 10_11_2...   \n",
       "\n",
       "  userRegion userCountry  \n",
       "0        NaN         NaN  \n",
       "1         NY          US  "
      ],
      "text/html": [
       "\n",
       "  <div id=\"df-b85e82cc-99e2-4e82-89d0-7d18c731cd1c\" class=\"colab-df-container\">\n",
       "    <div>\n",
       "<style scoped>\n",
       "    .dataframe tbody tr th:only-of-type {\n",
       "        vertical-align: middle;\n",
       "    }\n",
       "\n",
       "    .dataframe tbody tr th {\n",
       "        vertical-align: top;\n",
       "    }\n",
       "\n",
       "    .dataframe thead th {\n",
       "        text-align: right;\n",
       "    }\n",
       "</style>\n",
       "<table border=\"1\" class=\"dataframe\">\n",
       "  <thead>\n",
       "    <tr style=\"text-align: right;\">\n",
       "      <th></th>\n",
       "      <th>timestamp</th>\n",
       "      <th>eventType</th>\n",
       "      <th>contentId</th>\n",
       "      <th>personId</th>\n",
       "      <th>sessionId</th>\n",
       "      <th>userAgent</th>\n",
       "      <th>userRegion</th>\n",
       "      <th>userCountry</th>\n",
       "    </tr>\n",
       "  </thead>\n",
       "  <tbody>\n",
       "    <tr>\n",
       "      <th>0</th>\n",
       "      <td>1465413032</td>\n",
       "      <td>VIEW</td>\n",
       "      <td>-3499919498720038879</td>\n",
       "      <td>-8845298781299428018</td>\n",
       "      <td>1264196770339959068</td>\n",
       "      <td>NaN</td>\n",
       "      <td>NaN</td>\n",
       "      <td>NaN</td>\n",
       "    </tr>\n",
       "    <tr>\n",
       "      <th>1</th>\n",
       "      <td>1465412560</td>\n",
       "      <td>VIEW</td>\n",
       "      <td>8890720798209849691</td>\n",
       "      <td>-1032019229384696495</td>\n",
       "      <td>3621737643587579081</td>\n",
       "      <td>Mozilla/5.0 (Macintosh; Intel Mac OS X 10_11_2...</td>\n",
       "      <td>NY</td>\n",
       "      <td>US</td>\n",
       "    </tr>\n",
       "  </tbody>\n",
       "</table>\n",
       "</div>\n",
       "    <div class=\"colab-df-buttons\">\n",
       "\n",
       "  <div class=\"colab-df-container\">\n",
       "    <button class=\"colab-df-convert\" onclick=\"convertToInteractive('df-b85e82cc-99e2-4e82-89d0-7d18c731cd1c')\"\n",
       "            title=\"Convert this dataframe to an interactive table.\"\n",
       "            style=\"display:none;\">\n",
       "\n",
       "  <svg xmlns=\"http://www.w3.org/2000/svg\" height=\"24px\" viewBox=\"0 -960 960 960\">\n",
       "    <path d=\"M120-120v-720h720v720H120Zm60-500h600v-160H180v160Zm220 220h160v-160H400v160Zm0 220h160v-160H400v160ZM180-400h160v-160H180v160Zm440 0h160v-160H620v160ZM180-180h160v-160H180v160Zm440 0h160v-160H620v160Z\"/>\n",
       "  </svg>\n",
       "    </button>\n",
       "\n",
       "  <style>\n",
       "    .colab-df-container {\n",
       "      display:flex;\n",
       "      gap: 12px;\n",
       "    }\n",
       "\n",
       "    .colab-df-convert {\n",
       "      background-color: #E8F0FE;\n",
       "      border: none;\n",
       "      border-radius: 50%;\n",
       "      cursor: pointer;\n",
       "      display: none;\n",
       "      fill: #1967D2;\n",
       "      height: 32px;\n",
       "      padding: 0 0 0 0;\n",
       "      width: 32px;\n",
       "    }\n",
       "\n",
       "    .colab-df-convert:hover {\n",
       "      background-color: #E2EBFA;\n",
       "      box-shadow: 0px 1px 2px rgba(60, 64, 67, 0.3), 0px 1px 3px 1px rgba(60, 64, 67, 0.15);\n",
       "      fill: #174EA6;\n",
       "    }\n",
       "\n",
       "    .colab-df-buttons div {\n",
       "      margin-bottom: 4px;\n",
       "    }\n",
       "\n",
       "    [theme=dark] .colab-df-convert {\n",
       "      background-color: #3B4455;\n",
       "      fill: #D2E3FC;\n",
       "    }\n",
       "\n",
       "    [theme=dark] .colab-df-convert:hover {\n",
       "      background-color: #434B5C;\n",
       "      box-shadow: 0px 1px 3px 1px rgba(0, 0, 0, 0.15);\n",
       "      filter: drop-shadow(0px 1px 2px rgba(0, 0, 0, 0.3));\n",
       "      fill: #FFFFFF;\n",
       "    }\n",
       "  </style>\n",
       "\n",
       "    <script>\n",
       "      const buttonEl =\n",
       "        document.querySelector('#df-b85e82cc-99e2-4e82-89d0-7d18c731cd1c button.colab-df-convert');\n",
       "      buttonEl.style.display =\n",
       "        google.colab.kernel.accessAllowed ? 'block' : 'none';\n",
       "\n",
       "      async function convertToInteractive(key) {\n",
       "        const element = document.querySelector('#df-b85e82cc-99e2-4e82-89d0-7d18c731cd1c');\n",
       "        const dataTable =\n",
       "          await google.colab.kernel.invokeFunction('convertToInteractive',\n",
       "                                                    [key], {});\n",
       "        if (!dataTable) return;\n",
       "\n",
       "        const docLinkHtml = 'Like what you see? Visit the ' +\n",
       "          '<a target=\"_blank\" href=https://colab.research.google.com/notebooks/data_table.ipynb>data table notebook</a>'\n",
       "          + ' to learn more about interactive tables.';\n",
       "        element.innerHTML = '';\n",
       "        dataTable['output_type'] = 'display_data';\n",
       "        await google.colab.output.renderOutput(dataTable, element);\n",
       "        const docLink = document.createElement('div');\n",
       "        docLink.innerHTML = docLinkHtml;\n",
       "        element.appendChild(docLink);\n",
       "      }\n",
       "    </script>\n",
       "  </div>\n",
       "\n",
       "\n",
       "<div id=\"df-3d57992e-0a6d-4941-af85-8f56305c89d0\">\n",
       "  <button class=\"colab-df-quickchart\" onclick=\"quickchart('df-3d57992e-0a6d-4941-af85-8f56305c89d0')\"\n",
       "            title=\"Suggest charts\"\n",
       "            style=\"display:none;\">\n",
       "\n",
       "<svg xmlns=\"http://www.w3.org/2000/svg\" height=\"24px\"viewBox=\"0 0 24 24\"\n",
       "     width=\"24px\">\n",
       "    <g>\n",
       "        <path d=\"M19 3H5c-1.1 0-2 .9-2 2v14c0 1.1.9 2 2 2h14c1.1 0 2-.9 2-2V5c0-1.1-.9-2-2-2zM9 17H7v-7h2v7zm4 0h-2V7h2v10zm4 0h-2v-4h2v4z\"/>\n",
       "    </g>\n",
       "</svg>\n",
       "  </button>\n",
       "\n",
       "<style>\n",
       "  .colab-df-quickchart {\n",
       "      --bg-color: #E8F0FE;\n",
       "      --fill-color: #1967D2;\n",
       "      --hover-bg-color: #E2EBFA;\n",
       "      --hover-fill-color: #174EA6;\n",
       "      --disabled-fill-color: #AAA;\n",
       "      --disabled-bg-color: #DDD;\n",
       "  }\n",
       "\n",
       "  [theme=dark] .colab-df-quickchart {\n",
       "      --bg-color: #3B4455;\n",
       "      --fill-color: #D2E3FC;\n",
       "      --hover-bg-color: #434B5C;\n",
       "      --hover-fill-color: #FFFFFF;\n",
       "      --disabled-bg-color: #3B4455;\n",
       "      --disabled-fill-color: #666;\n",
       "  }\n",
       "\n",
       "  .colab-df-quickchart {\n",
       "    background-color: var(--bg-color);\n",
       "    border: none;\n",
       "    border-radius: 50%;\n",
       "    cursor: pointer;\n",
       "    display: none;\n",
       "    fill: var(--fill-color);\n",
       "    height: 32px;\n",
       "    padding: 0;\n",
       "    width: 32px;\n",
       "  }\n",
       "\n",
       "  .colab-df-quickchart:hover {\n",
       "    background-color: var(--hover-bg-color);\n",
       "    box-shadow: 0 1px 2px rgba(60, 64, 67, 0.3), 0 1px 3px 1px rgba(60, 64, 67, 0.15);\n",
       "    fill: var(--button-hover-fill-color);\n",
       "  }\n",
       "\n",
       "  .colab-df-quickchart-complete:disabled,\n",
       "  .colab-df-quickchart-complete:disabled:hover {\n",
       "    background-color: var(--disabled-bg-color);\n",
       "    fill: var(--disabled-fill-color);\n",
       "    box-shadow: none;\n",
       "  }\n",
       "\n",
       "  .colab-df-spinner {\n",
       "    border: 2px solid var(--fill-color);\n",
       "    border-color: transparent;\n",
       "    border-bottom-color: var(--fill-color);\n",
       "    animation:\n",
       "      spin 1s steps(1) infinite;\n",
       "  }\n",
       "\n",
       "  @keyframes spin {\n",
       "    0% {\n",
       "      border-color: transparent;\n",
       "      border-bottom-color: var(--fill-color);\n",
       "      border-left-color: var(--fill-color);\n",
       "    }\n",
       "    20% {\n",
       "      border-color: transparent;\n",
       "      border-left-color: var(--fill-color);\n",
       "      border-top-color: var(--fill-color);\n",
       "    }\n",
       "    30% {\n",
       "      border-color: transparent;\n",
       "      border-left-color: var(--fill-color);\n",
       "      border-top-color: var(--fill-color);\n",
       "      border-right-color: var(--fill-color);\n",
       "    }\n",
       "    40% {\n",
       "      border-color: transparent;\n",
       "      border-right-color: var(--fill-color);\n",
       "      border-top-color: var(--fill-color);\n",
       "    }\n",
       "    60% {\n",
       "      border-color: transparent;\n",
       "      border-right-color: var(--fill-color);\n",
       "    }\n",
       "    80% {\n",
       "      border-color: transparent;\n",
       "      border-right-color: var(--fill-color);\n",
       "      border-bottom-color: var(--fill-color);\n",
       "    }\n",
       "    90% {\n",
       "      border-color: transparent;\n",
       "      border-bottom-color: var(--fill-color);\n",
       "    }\n",
       "  }\n",
       "</style>\n",
       "\n",
       "  <script>\n",
       "    async function quickchart(key) {\n",
       "      const quickchartButtonEl =\n",
       "        document.querySelector('#' + key + ' button');\n",
       "      quickchartButtonEl.disabled = true;  // To prevent multiple clicks.\n",
       "      quickchartButtonEl.classList.add('colab-df-spinner');\n",
       "      try {\n",
       "        const charts = await google.colab.kernel.invokeFunction(\n",
       "            'suggestCharts', [key], {});\n",
       "      } catch (error) {\n",
       "        console.error('Error during call to suggestCharts:', error);\n",
       "      }\n",
       "      quickchartButtonEl.classList.remove('colab-df-spinner');\n",
       "      quickchartButtonEl.classList.add('colab-df-quickchart-complete');\n",
       "    }\n",
       "    (() => {\n",
       "      let quickchartButtonEl =\n",
       "        document.querySelector('#df-3d57992e-0a6d-4941-af85-8f56305c89d0 button');\n",
       "      quickchartButtonEl.style.display =\n",
       "        google.colab.kernel.accessAllowed ? 'block' : 'none';\n",
       "    })();\n",
       "  </script>\n",
       "</div>\n",
       "    </div>\n",
       "  </div>\n"
      ],
      "application/vnd.google.colaboratory.intrinsic+json": {
       "type": "dataframe",
       "variable_name": "interactions_df",
       "summary": "{\n  \"name\": \"interactions_df\",\n  \"rows\": 72312,\n  \"fields\": [\n    {\n      \"column\": \"timestamp\",\n      \"properties\": {\n        \"dtype\": \"number\",\n        \"std\": 7258130,\n        \"min\": 1457963676,\n        \"max\": 1488309711,\n        \"num_unique_values\": 68772,\n        \"samples\": [\n          1478704125,\n          1463321913,\n          1464900899\n        ],\n        \"semantic_type\": \"\",\n        \"description\": \"\"\n      }\n    },\n    {\n      \"column\": \"eventType\",\n      \"properties\": {\n        \"dtype\": \"category\",\n        \"num_unique_values\": 5,\n        \"samples\": [\n          \"FOLLOW\",\n          \"COMMENT CREATED\",\n          \"BOOKMARK\"\n        ],\n        \"semantic_type\": \"\",\n        \"description\": \"\"\n      }\n    },\n    {\n      \"column\": \"contentId\",\n      \"properties\": {\n        \"dtype\": \"number\",\n        \"std\": 5344755029847182336,\n        \"min\": -9222795471790223670,\n        \"max\": 9222265156747237864,\n        \"num_unique_values\": 2987,\n        \"samples\": [\n          -8009994379436553252,\n          -5482295111885355605,\n          -4336355219396419841\n        ],\n        \"semantic_type\": \"\",\n        \"description\": \"\"\n      }\n    },\n    {\n      \"column\": \"personId\",\n      \"properties\": {\n        \"dtype\": \"number\",\n        \"std\": 5022332594737767424,\n        \"min\": -9223121837663643404,\n        \"max\": 9210530975708218054,\n        \"num_unique_values\": 1895,\n        \"samples\": [\n          8667275116635296267,\n          2976142380064454474,\n          1498116869772772394\n        ],\n        \"semantic_type\": \"\",\n        \"description\": \"\"\n      }\n    },\n    {\n      \"column\": \"sessionId\",\n      \"properties\": {\n        \"dtype\": \"number\",\n        \"std\": 5344354584435588096,\n        \"min\": -9222505379480129080,\n        \"max\": 9223314460691383944,\n        \"num_unique_values\": 28740,\n        \"samples\": [\n          8363932860547166328,\n          -2705538937580394192,\n          -787140975470877978\n        ],\n        \"semantic_type\": \"\",\n        \"description\": \"\"\n      }\n    },\n    {\n      \"column\": \"userAgent\",\n      \"properties\": {\n        \"dtype\": \"category\",\n        \"num_unique_values\": 1090,\n        \"samples\": [\n          \"Mozilla/5.0 (Windows NT 6.1; Win64; x64) AppleWebKit/537.36 (KHTML, like Gecko) Chrome/54.0.2840.71 Safari/537.36\",\n          \"Mozilla/5.0 (Macintosh; Intel Mac OS X 10_11_6) AppleWebKit/537.36 (KHTML, like Gecko) Chrome/55.0.2883.95 Safari/537.36\",\n          \"Mozilla/5.0 (X11; CrOS x86_64 8872.73.0) AppleWebKit/537.36 (KHTML, like Gecko) Chrome/55.0.2883.103 Safari/537.36\"\n        ],\n        \"semantic_type\": \"\",\n        \"description\": \"\"\n      }\n    },\n    {\n      \"column\": \"userRegion\",\n      \"properties\": {\n        \"dtype\": \"category\",\n        \"num_unique_values\": 71,\n        \"samples\": [\n          \"PR\",\n          \"NY\",\n          \"RS\"\n        ],\n        \"semantic_type\": \"\",\n        \"description\": \"\"\n      }\n    },\n    {\n      \"column\": \"userCountry\",\n      \"properties\": {\n        \"dtype\": \"category\",\n        \"num_unique_values\": 23,\n        \"samples\": [\n          \"MY\",\n          \"IS\",\n          \"US\"\n        ],\n        \"semantic_type\": \"\",\n        \"description\": \"\"\n      }\n    }\n  ]\n}"
      }
     },
     "metadata": {},
     "execution_count": 5
    }
   ],
   "source": [
    "interactions_df = pd.read_csv(f\"{PATH_DATA}/users_interactions.csv\")\n",
    "interactions_df.head(2)"
   ]
  },
  {
   "cell_type": "code",
   "execution_count": 6,
   "metadata": {
    "id": "5nQScdSTTzNG"
   },
   "outputs": [],
   "source": [
    "interactions_df.personId = interactions_df.personId.astype(str)\n",
    "interactions_df.contentId = interactions_df.contentId.astype(str)\n",
    "articles_df.contentId = articles_df.contentId.astype(str)"
   ]
  },
  {
   "cell_type": "code",
   "execution_count": 7,
   "metadata": {
    "id": "eu6R9rDQT2P4"
   },
   "outputs": [],
   "source": [
    "# зададим словарь определяющий силу взаимодействия\n",
    "event_type_strength = {\n",
    "    \"VIEW\": 1.0,\n",
    "    \"LIKE\": 2.0,\n",
    "    \"BOOKMARK\": 2.5,\n",
    "    \"FOLLOW\": 3.0,\n",
    "    \"COMMENT CREATED\": 4.0,\n",
    "}\n",
    "\n",
    "interactions_df[\"eventStrength\"] = interactions_df.eventType.apply(\n",
    "    lambda x: event_type_strength[x]\n",
    ")"
   ]
  },
  {
   "cell_type": "markdown",
   "metadata": {
    "id": "ATO5PRRwUkQ0"
   },
   "source": [
    "Оставляем только тех пользователей, которые произамодействовали более чем с пятью статьями."
   ]
  },
  {
   "cell_type": "code",
   "execution_count": 8,
   "metadata": {
    "colab": {
     "base_uri": "https://localhost:8080/"
    },
    "id": "d-0HoboYUBm5",
    "outputId": "e7a9b463-407b-4a76-95ae-22ca6680840e"
   },
   "outputs": [
    {
     "output_type": "stream",
     "name": "stdout",
     "text": [
      "# users: 1895\n",
      "# users with at least 5 interactions: 1140\n"
     ]
    }
   ],
   "source": [
    "users_interactions_count_df = (\n",
    "    interactions_df.groupby([\"personId\", \"contentId\"])\n",
    "    .first()\n",
    "    .reset_index()\n",
    "    .groupby(\"personId\")\n",
    "    .size()\n",
    ")\n",
    "print(\"# users:\", len(users_interactions_count_df))\n",
    "\n",
    "users_with_enough_interactions_df = users_interactions_count_df[\n",
    "    users_interactions_count_df >= 5\n",
    "].reset_index()[[\"personId\"]]\n",
    "print(\"# users with at least 5 interactions:\", len(users_with_enough_interactions_df))"
   ]
  },
  {
   "cell_type": "markdown",
   "metadata": {
    "id": "gQagI3DHUuX5"
   },
   "source": [
    "Оставляем только те взаимодействия, которые относятся к отфильтрованным пользователям."
   ]
  },
  {
   "cell_type": "code",
   "execution_count": 9,
   "metadata": {
    "id": "34rrdGdpUFgk"
   },
   "outputs": [],
   "source": [
    "interactions_from_selected_users_df = interactions_df.loc[\n",
    "    np.in1d(interactions_df.personId, users_with_enough_interactions_df)\n",
    "]"
   ]
  },
  {
   "cell_type": "code",
   "execution_count": 10,
   "metadata": {
    "colab": {
     "base_uri": "https://localhost:8080/"
    },
    "id": "Hd3VS_BgU9HN",
    "outputId": "582dc9ba-48b8-45be-cddc-89dcb1876f43"
   },
   "outputs": [
    {
     "output_type": "stream",
     "name": "stdout",
     "text": [
      "# interactions before: (72312, 9)\n",
      "# interactions after: (69868, 9)\n"
     ]
    }
   ],
   "source": [
    "print(f\"# interactions before: {interactions_df.shape}\")\n",
    "print(f\"# interactions after: {interactions_from_selected_users_df.shape}\")"
   ]
  },
  {
   "cell_type": "markdown",
   "metadata": {
    "id": "FYpRiFkQVR6B"
   },
   "source": [
    "Объединяем все взаимодействия пользователя по каждой статье и сглаживаем полученный результат, взяв от него логарифм."
   ]
  },
  {
   "cell_type": "code",
   "execution_count": 11,
   "metadata": {
    "colab": {
     "base_uri": "https://localhost:8080/",
     "height": 206
    },
    "id": "mtPtAehKVEUu",
    "outputId": "515cf831-0632-4a04-a855-c894b3619157"
   },
   "outputs": [
    {
     "output_type": "execute_result",
     "data": {
      "text/plain": [
       "               personId             contentId  eventStrength  last_timestamp\n",
       "0  -1007001694607905623  -5065077552540450930       1.000000      1470395911\n",
       "1  -1007001694607905623  -6623581327558800021       1.000000      1487240080\n",
       "2  -1007001694607905623   -793729620925729327       1.000000      1472834892\n",
       "3  -1007001694607905623   1469580151036142903       1.000000      1487240062\n",
       "4  -1007001694607905623   7270966256391553686       1.584963      1485994324"
      ],
      "text/html": [
       "\n",
       "  <div id=\"df-561d80cf-2350-4bf0-8a9e-7357b45e2a3c\" class=\"colab-df-container\">\n",
       "    <div>\n",
       "<style scoped>\n",
       "    .dataframe tbody tr th:only-of-type {\n",
       "        vertical-align: middle;\n",
       "    }\n",
       "\n",
       "    .dataframe tbody tr th {\n",
       "        vertical-align: top;\n",
       "    }\n",
       "\n",
       "    .dataframe thead th {\n",
       "        text-align: right;\n",
       "    }\n",
       "</style>\n",
       "<table border=\"1\" class=\"dataframe\">\n",
       "  <thead>\n",
       "    <tr style=\"text-align: right;\">\n",
       "      <th></th>\n",
       "      <th>personId</th>\n",
       "      <th>contentId</th>\n",
       "      <th>eventStrength</th>\n",
       "      <th>last_timestamp</th>\n",
       "    </tr>\n",
       "  </thead>\n",
       "  <tbody>\n",
       "    <tr>\n",
       "      <th>0</th>\n",
       "      <td>-1007001694607905623</td>\n",
       "      <td>-5065077552540450930</td>\n",
       "      <td>1.000000</td>\n",
       "      <td>1470395911</td>\n",
       "    </tr>\n",
       "    <tr>\n",
       "      <th>1</th>\n",
       "      <td>-1007001694607905623</td>\n",
       "      <td>-6623581327558800021</td>\n",
       "      <td>1.000000</td>\n",
       "      <td>1487240080</td>\n",
       "    </tr>\n",
       "    <tr>\n",
       "      <th>2</th>\n",
       "      <td>-1007001694607905623</td>\n",
       "      <td>-793729620925729327</td>\n",
       "      <td>1.000000</td>\n",
       "      <td>1472834892</td>\n",
       "    </tr>\n",
       "    <tr>\n",
       "      <th>3</th>\n",
       "      <td>-1007001694607905623</td>\n",
       "      <td>1469580151036142903</td>\n",
       "      <td>1.000000</td>\n",
       "      <td>1487240062</td>\n",
       "    </tr>\n",
       "    <tr>\n",
       "      <th>4</th>\n",
       "      <td>-1007001694607905623</td>\n",
       "      <td>7270966256391553686</td>\n",
       "      <td>1.584963</td>\n",
       "      <td>1485994324</td>\n",
       "    </tr>\n",
       "  </tbody>\n",
       "</table>\n",
       "</div>\n",
       "    <div class=\"colab-df-buttons\">\n",
       "\n",
       "  <div class=\"colab-df-container\">\n",
       "    <button class=\"colab-df-convert\" onclick=\"convertToInteractive('df-561d80cf-2350-4bf0-8a9e-7357b45e2a3c')\"\n",
       "            title=\"Convert this dataframe to an interactive table.\"\n",
       "            style=\"display:none;\">\n",
       "\n",
       "  <svg xmlns=\"http://www.w3.org/2000/svg\" height=\"24px\" viewBox=\"0 -960 960 960\">\n",
       "    <path d=\"M120-120v-720h720v720H120Zm60-500h600v-160H180v160Zm220 220h160v-160H400v160Zm0 220h160v-160H400v160ZM180-400h160v-160H180v160Zm440 0h160v-160H620v160ZM180-180h160v-160H180v160Zm440 0h160v-160H620v160Z\"/>\n",
       "  </svg>\n",
       "    </button>\n",
       "\n",
       "  <style>\n",
       "    .colab-df-container {\n",
       "      display:flex;\n",
       "      gap: 12px;\n",
       "    }\n",
       "\n",
       "    .colab-df-convert {\n",
       "      background-color: #E8F0FE;\n",
       "      border: none;\n",
       "      border-radius: 50%;\n",
       "      cursor: pointer;\n",
       "      display: none;\n",
       "      fill: #1967D2;\n",
       "      height: 32px;\n",
       "      padding: 0 0 0 0;\n",
       "      width: 32px;\n",
       "    }\n",
       "\n",
       "    .colab-df-convert:hover {\n",
       "      background-color: #E2EBFA;\n",
       "      box-shadow: 0px 1px 2px rgba(60, 64, 67, 0.3), 0px 1px 3px 1px rgba(60, 64, 67, 0.15);\n",
       "      fill: #174EA6;\n",
       "    }\n",
       "\n",
       "    .colab-df-buttons div {\n",
       "      margin-bottom: 4px;\n",
       "    }\n",
       "\n",
       "    [theme=dark] .colab-df-convert {\n",
       "      background-color: #3B4455;\n",
       "      fill: #D2E3FC;\n",
       "    }\n",
       "\n",
       "    [theme=dark] .colab-df-convert:hover {\n",
       "      background-color: #434B5C;\n",
       "      box-shadow: 0px 1px 3px 1px rgba(0, 0, 0, 0.15);\n",
       "      filter: drop-shadow(0px 1px 2px rgba(0, 0, 0, 0.3));\n",
       "      fill: #FFFFFF;\n",
       "    }\n",
       "  </style>\n",
       "\n",
       "    <script>\n",
       "      const buttonEl =\n",
       "        document.querySelector('#df-561d80cf-2350-4bf0-8a9e-7357b45e2a3c button.colab-df-convert');\n",
       "      buttonEl.style.display =\n",
       "        google.colab.kernel.accessAllowed ? 'block' : 'none';\n",
       "\n",
       "      async function convertToInteractive(key) {\n",
       "        const element = document.querySelector('#df-561d80cf-2350-4bf0-8a9e-7357b45e2a3c');\n",
       "        const dataTable =\n",
       "          await google.colab.kernel.invokeFunction('convertToInteractive',\n",
       "                                                    [key], {});\n",
       "        if (!dataTable) return;\n",
       "\n",
       "        const docLinkHtml = 'Like what you see? Visit the ' +\n",
       "          '<a target=\"_blank\" href=https://colab.research.google.com/notebooks/data_table.ipynb>data table notebook</a>'\n",
       "          + ' to learn more about interactive tables.';\n",
       "        element.innerHTML = '';\n",
       "        dataTable['output_type'] = 'display_data';\n",
       "        await google.colab.output.renderOutput(dataTable, element);\n",
       "        const docLink = document.createElement('div');\n",
       "        docLink.innerHTML = docLinkHtml;\n",
       "        element.appendChild(docLink);\n",
       "      }\n",
       "    </script>\n",
       "  </div>\n",
       "\n",
       "\n",
       "<div id=\"df-2b9f07ab-7d42-4f87-9b1d-8b3a6f4cba72\">\n",
       "  <button class=\"colab-df-quickchart\" onclick=\"quickchart('df-2b9f07ab-7d42-4f87-9b1d-8b3a6f4cba72')\"\n",
       "            title=\"Suggest charts\"\n",
       "            style=\"display:none;\">\n",
       "\n",
       "<svg xmlns=\"http://www.w3.org/2000/svg\" height=\"24px\"viewBox=\"0 0 24 24\"\n",
       "     width=\"24px\">\n",
       "    <g>\n",
       "        <path d=\"M19 3H5c-1.1 0-2 .9-2 2v14c0 1.1.9 2 2 2h14c1.1 0 2-.9 2-2V5c0-1.1-.9-2-2-2zM9 17H7v-7h2v7zm4 0h-2V7h2v10zm4 0h-2v-4h2v4z\"/>\n",
       "    </g>\n",
       "</svg>\n",
       "  </button>\n",
       "\n",
       "<style>\n",
       "  .colab-df-quickchart {\n",
       "      --bg-color: #E8F0FE;\n",
       "      --fill-color: #1967D2;\n",
       "      --hover-bg-color: #E2EBFA;\n",
       "      --hover-fill-color: #174EA6;\n",
       "      --disabled-fill-color: #AAA;\n",
       "      --disabled-bg-color: #DDD;\n",
       "  }\n",
       "\n",
       "  [theme=dark] .colab-df-quickchart {\n",
       "      --bg-color: #3B4455;\n",
       "      --fill-color: #D2E3FC;\n",
       "      --hover-bg-color: #434B5C;\n",
       "      --hover-fill-color: #FFFFFF;\n",
       "      --disabled-bg-color: #3B4455;\n",
       "      --disabled-fill-color: #666;\n",
       "  }\n",
       "\n",
       "  .colab-df-quickchart {\n",
       "    background-color: var(--bg-color);\n",
       "    border: none;\n",
       "    border-radius: 50%;\n",
       "    cursor: pointer;\n",
       "    display: none;\n",
       "    fill: var(--fill-color);\n",
       "    height: 32px;\n",
       "    padding: 0;\n",
       "    width: 32px;\n",
       "  }\n",
       "\n",
       "  .colab-df-quickchart:hover {\n",
       "    background-color: var(--hover-bg-color);\n",
       "    box-shadow: 0 1px 2px rgba(60, 64, 67, 0.3), 0 1px 3px 1px rgba(60, 64, 67, 0.15);\n",
       "    fill: var(--button-hover-fill-color);\n",
       "  }\n",
       "\n",
       "  .colab-df-quickchart-complete:disabled,\n",
       "  .colab-df-quickchart-complete:disabled:hover {\n",
       "    background-color: var(--disabled-bg-color);\n",
       "    fill: var(--disabled-fill-color);\n",
       "    box-shadow: none;\n",
       "  }\n",
       "\n",
       "  .colab-df-spinner {\n",
       "    border: 2px solid var(--fill-color);\n",
       "    border-color: transparent;\n",
       "    border-bottom-color: var(--fill-color);\n",
       "    animation:\n",
       "      spin 1s steps(1) infinite;\n",
       "  }\n",
       "\n",
       "  @keyframes spin {\n",
       "    0% {\n",
       "      border-color: transparent;\n",
       "      border-bottom-color: var(--fill-color);\n",
       "      border-left-color: var(--fill-color);\n",
       "    }\n",
       "    20% {\n",
       "      border-color: transparent;\n",
       "      border-left-color: var(--fill-color);\n",
       "      border-top-color: var(--fill-color);\n",
       "    }\n",
       "    30% {\n",
       "      border-color: transparent;\n",
       "      border-left-color: var(--fill-color);\n",
       "      border-top-color: var(--fill-color);\n",
       "      border-right-color: var(--fill-color);\n",
       "    }\n",
       "    40% {\n",
       "      border-color: transparent;\n",
       "      border-right-color: var(--fill-color);\n",
       "      border-top-color: var(--fill-color);\n",
       "    }\n",
       "    60% {\n",
       "      border-color: transparent;\n",
       "      border-right-color: var(--fill-color);\n",
       "    }\n",
       "    80% {\n",
       "      border-color: transparent;\n",
       "      border-right-color: var(--fill-color);\n",
       "      border-bottom-color: var(--fill-color);\n",
       "    }\n",
       "    90% {\n",
       "      border-color: transparent;\n",
       "      border-bottom-color: var(--fill-color);\n",
       "    }\n",
       "  }\n",
       "</style>\n",
       "\n",
       "  <script>\n",
       "    async function quickchart(key) {\n",
       "      const quickchartButtonEl =\n",
       "        document.querySelector('#' + key + ' button');\n",
       "      quickchartButtonEl.disabled = true;  // To prevent multiple clicks.\n",
       "      quickchartButtonEl.classList.add('colab-df-spinner');\n",
       "      try {\n",
       "        const charts = await google.colab.kernel.invokeFunction(\n",
       "            'suggestCharts', [key], {});\n",
       "      } catch (error) {\n",
       "        console.error('Error during call to suggestCharts:', error);\n",
       "      }\n",
       "      quickchartButtonEl.classList.remove('colab-df-spinner');\n",
       "      quickchartButtonEl.classList.add('colab-df-quickchart-complete');\n",
       "    }\n",
       "    (() => {\n",
       "      let quickchartButtonEl =\n",
       "        document.querySelector('#df-2b9f07ab-7d42-4f87-9b1d-8b3a6f4cba72 button');\n",
       "      quickchartButtonEl.style.display =\n",
       "        google.colab.kernel.accessAllowed ? 'block' : 'none';\n",
       "    })();\n",
       "  </script>\n",
       "</div>\n",
       "    </div>\n",
       "  </div>\n"
      ],
      "application/vnd.google.colaboratory.intrinsic+json": {
       "type": "dataframe",
       "variable_name": "interactions_full_df",
       "summary": "{\n  \"name\": \"interactions_full_df\",\n  \"rows\": 39106,\n  \"fields\": [\n    {\n      \"column\": \"personId\",\n      \"properties\": {\n        \"dtype\": \"category\",\n        \"num_unique_values\": 1140,\n        \"samples\": [\n          \"4309036796659976637\",\n          \"6177317203370394776\",\n          \"-5375964707198876331\"\n        ],\n        \"semantic_type\": \"\",\n        \"description\": \"\"\n      }\n    },\n    {\n      \"column\": \"contentId\",\n      \"properties\": {\n        \"dtype\": \"category\",\n        \"num_unique_values\": 2984,\n        \"samples\": [\n          \"2573252627510191315\",\n          \"-2318171567839609160\",\n          \"-271938775771328391\"\n        ],\n        \"semantic_type\": \"\",\n        \"description\": \"\"\n      }\n    },\n    {\n      \"column\": \"eventStrength\",\n      \"properties\": {\n        \"dtype\": \"number\",\n        \"std\": 0.6863545413944004,\n        \"min\": 1.0,\n        \"max\": 7.851749041416057,\n        \"num_unique_values\": 70,\n        \"samples\": [\n          4.584962500721157,\n          1.0,\n          4.426264754702098\n        ],\n        \"semantic_type\": \"\",\n        \"description\": \"\"\n      }\n    },\n    {\n      \"column\": \"last_timestamp\",\n      \"properties\": {\n        \"dtype\": \"number\",\n        \"std\": 7539145,\n        \"min\": 1457963676,\n        \"max\": 1488309711,\n        \"num_unique_values\": 38900,\n        \"samples\": [\n          1471605956,\n          1462361841,\n          1462471189\n        ],\n        \"semantic_type\": \"\",\n        \"description\": \"\"\n      }\n    }\n  ]\n}"
      }
     },
     "metadata": {},
     "execution_count": 11
    }
   ],
   "source": [
    "def smooth_user_preference(x):\n",
    "    return math.log(1 + x, 2)\n",
    "\n",
    "\n",
    "interactions_full_df = (\n",
    "    interactions_from_selected_users_df.groupby([\"personId\", \"contentId\"])\n",
    "    .eventStrength.sum()\n",
    "    .apply(smooth_user_preference)\n",
    "    .reset_index()\n",
    "    .set_index([\"personId\", \"contentId\"])\n",
    ")\n",
    "interactions_full_df[\"last_timestamp\"] = interactions_from_selected_users_df.groupby(\n",
    "    [\"personId\", \"contentId\"]\n",
    ")[\"timestamp\"].last()\n",
    "\n",
    "interactions_full_df = interactions_full_df.reset_index()\n",
    "interactions_full_df.head(5)"
   ]
  },
  {
   "cell_type": "markdown",
   "metadata": {
    "id": "ODJYMtnNWM5w"
   },
   "source": [
    "Разобьём выборку на обучение и контроль по времени."
   ]
  },
  {
   "cell_type": "code",
   "execution_count": 12,
   "metadata": {
    "colab": {
     "base_uri": "https://localhost:8080/",
     "height": 458
    },
    "id": "3F2CfAwoVrfo",
    "outputId": "568e77ee-07a0-4196-b685-a25259459d18"
   },
   "outputs": [
    {
     "output_type": "stream",
     "name": "stdout",
     "text": [
      "# interactions on Train set: 29329\n",
      "# interactions on Test set: 9777\n"
     ]
    },
    {
     "output_type": "execute_result",
     "data": {
      "text/plain": [
       "                   personId             contentId  eventStrength  \\\n",
       "0      -1007001694607905623  -5065077552540450930            1.0   \n",
       "2      -1007001694607905623   -793729620925729327            1.0   \n",
       "6      -1032019229384696495  -1006791494035379303            1.0   \n",
       "7      -1032019229384696495  -1039912738963181810            1.0   \n",
       "8      -1032019229384696495  -1081723567492738167            2.0   \n",
       "...                     ...                   ...            ...   \n",
       "39099    997469202936578234   9112765177685685246            2.0   \n",
       "39100    998688566268269815  -1255189867397298842            1.0   \n",
       "39101    998688566268269815   -401664538366009049            1.0   \n",
       "39103    998688566268269815   6881796783400625893            1.0   \n",
       "39105    998688566268269815    739747367187387064            1.0   \n",
       "\n",
       "       last_timestamp  \n",
       "0          1470395911  \n",
       "2          1472834892  \n",
       "6          1469129122  \n",
       "7          1459376415  \n",
       "8          1464054093  \n",
       "...               ...  \n",
       "39099      1472479493  \n",
       "39100      1474567164  \n",
       "39101      1474567449  \n",
       "39103      1474567675  \n",
       "39105      1474567514  \n",
       "\n",
       "[29329 rows x 4 columns]"
      ],
      "text/html": [
       "\n",
       "  <div id=\"df-a6580ecb-e085-475f-b5ae-d5106fce4021\" class=\"colab-df-container\">\n",
       "    <div>\n",
       "<style scoped>\n",
       "    .dataframe tbody tr th:only-of-type {\n",
       "        vertical-align: middle;\n",
       "    }\n",
       "\n",
       "    .dataframe tbody tr th {\n",
       "        vertical-align: top;\n",
       "    }\n",
       "\n",
       "    .dataframe thead th {\n",
       "        text-align: right;\n",
       "    }\n",
       "</style>\n",
       "<table border=\"1\" class=\"dataframe\">\n",
       "  <thead>\n",
       "    <tr style=\"text-align: right;\">\n",
       "      <th></th>\n",
       "      <th>personId</th>\n",
       "      <th>contentId</th>\n",
       "      <th>eventStrength</th>\n",
       "      <th>last_timestamp</th>\n",
       "    </tr>\n",
       "  </thead>\n",
       "  <tbody>\n",
       "    <tr>\n",
       "      <th>0</th>\n",
       "      <td>-1007001694607905623</td>\n",
       "      <td>-5065077552540450930</td>\n",
       "      <td>1.0</td>\n",
       "      <td>1470395911</td>\n",
       "    </tr>\n",
       "    <tr>\n",
       "      <th>2</th>\n",
       "      <td>-1007001694607905623</td>\n",
       "      <td>-793729620925729327</td>\n",
       "      <td>1.0</td>\n",
       "      <td>1472834892</td>\n",
       "    </tr>\n",
       "    <tr>\n",
       "      <th>6</th>\n",
       "      <td>-1032019229384696495</td>\n",
       "      <td>-1006791494035379303</td>\n",
       "      <td>1.0</td>\n",
       "      <td>1469129122</td>\n",
       "    </tr>\n",
       "    <tr>\n",
       "      <th>7</th>\n",
       "      <td>-1032019229384696495</td>\n",
       "      <td>-1039912738963181810</td>\n",
       "      <td>1.0</td>\n",
       "      <td>1459376415</td>\n",
       "    </tr>\n",
       "    <tr>\n",
       "      <th>8</th>\n",
       "      <td>-1032019229384696495</td>\n",
       "      <td>-1081723567492738167</td>\n",
       "      <td>2.0</td>\n",
       "      <td>1464054093</td>\n",
       "    </tr>\n",
       "    <tr>\n",
       "      <th>...</th>\n",
       "      <td>...</td>\n",
       "      <td>...</td>\n",
       "      <td>...</td>\n",
       "      <td>...</td>\n",
       "    </tr>\n",
       "    <tr>\n",
       "      <th>39099</th>\n",
       "      <td>997469202936578234</td>\n",
       "      <td>9112765177685685246</td>\n",
       "      <td>2.0</td>\n",
       "      <td>1472479493</td>\n",
       "    </tr>\n",
       "    <tr>\n",
       "      <th>39100</th>\n",
       "      <td>998688566268269815</td>\n",
       "      <td>-1255189867397298842</td>\n",
       "      <td>1.0</td>\n",
       "      <td>1474567164</td>\n",
       "    </tr>\n",
       "    <tr>\n",
       "      <th>39101</th>\n",
       "      <td>998688566268269815</td>\n",
       "      <td>-401664538366009049</td>\n",
       "      <td>1.0</td>\n",
       "      <td>1474567449</td>\n",
       "    </tr>\n",
       "    <tr>\n",
       "      <th>39103</th>\n",
       "      <td>998688566268269815</td>\n",
       "      <td>6881796783400625893</td>\n",
       "      <td>1.0</td>\n",
       "      <td>1474567675</td>\n",
       "    </tr>\n",
       "    <tr>\n",
       "      <th>39105</th>\n",
       "      <td>998688566268269815</td>\n",
       "      <td>739747367187387064</td>\n",
       "      <td>1.0</td>\n",
       "      <td>1474567514</td>\n",
       "    </tr>\n",
       "  </tbody>\n",
       "</table>\n",
       "<p>29329 rows × 4 columns</p>\n",
       "</div>\n",
       "    <div class=\"colab-df-buttons\">\n",
       "\n",
       "  <div class=\"colab-df-container\">\n",
       "    <button class=\"colab-df-convert\" onclick=\"convertToInteractive('df-a6580ecb-e085-475f-b5ae-d5106fce4021')\"\n",
       "            title=\"Convert this dataframe to an interactive table.\"\n",
       "            style=\"display:none;\">\n",
       "\n",
       "  <svg xmlns=\"http://www.w3.org/2000/svg\" height=\"24px\" viewBox=\"0 -960 960 960\">\n",
       "    <path d=\"M120-120v-720h720v720H120Zm60-500h600v-160H180v160Zm220 220h160v-160H400v160Zm0 220h160v-160H400v160ZM180-400h160v-160H180v160Zm440 0h160v-160H620v160ZM180-180h160v-160H180v160Zm440 0h160v-160H620v160Z\"/>\n",
       "  </svg>\n",
       "    </button>\n",
       "\n",
       "  <style>\n",
       "    .colab-df-container {\n",
       "      display:flex;\n",
       "      gap: 12px;\n",
       "    }\n",
       "\n",
       "    .colab-df-convert {\n",
       "      background-color: #E8F0FE;\n",
       "      border: none;\n",
       "      border-radius: 50%;\n",
       "      cursor: pointer;\n",
       "      display: none;\n",
       "      fill: #1967D2;\n",
       "      height: 32px;\n",
       "      padding: 0 0 0 0;\n",
       "      width: 32px;\n",
       "    }\n",
       "\n",
       "    .colab-df-convert:hover {\n",
       "      background-color: #E2EBFA;\n",
       "      box-shadow: 0px 1px 2px rgba(60, 64, 67, 0.3), 0px 1px 3px 1px rgba(60, 64, 67, 0.15);\n",
       "      fill: #174EA6;\n",
       "    }\n",
       "\n",
       "    .colab-df-buttons div {\n",
       "      margin-bottom: 4px;\n",
       "    }\n",
       "\n",
       "    [theme=dark] .colab-df-convert {\n",
       "      background-color: #3B4455;\n",
       "      fill: #D2E3FC;\n",
       "    }\n",
       "\n",
       "    [theme=dark] .colab-df-convert:hover {\n",
       "      background-color: #434B5C;\n",
       "      box-shadow: 0px 1px 3px 1px rgba(0, 0, 0, 0.15);\n",
       "      filter: drop-shadow(0px 1px 2px rgba(0, 0, 0, 0.3));\n",
       "      fill: #FFFFFF;\n",
       "    }\n",
       "  </style>\n",
       "\n",
       "    <script>\n",
       "      const buttonEl =\n",
       "        document.querySelector('#df-a6580ecb-e085-475f-b5ae-d5106fce4021 button.colab-df-convert');\n",
       "      buttonEl.style.display =\n",
       "        google.colab.kernel.accessAllowed ? 'block' : 'none';\n",
       "\n",
       "      async function convertToInteractive(key) {\n",
       "        const element = document.querySelector('#df-a6580ecb-e085-475f-b5ae-d5106fce4021');\n",
       "        const dataTable =\n",
       "          await google.colab.kernel.invokeFunction('convertToInteractive',\n",
       "                                                    [key], {});\n",
       "        if (!dataTable) return;\n",
       "\n",
       "        const docLinkHtml = 'Like what you see? Visit the ' +\n",
       "          '<a target=\"_blank\" href=https://colab.research.google.com/notebooks/data_table.ipynb>data table notebook</a>'\n",
       "          + ' to learn more about interactive tables.';\n",
       "        element.innerHTML = '';\n",
       "        dataTable['output_type'] = 'display_data';\n",
       "        await google.colab.output.renderOutput(dataTable, element);\n",
       "        const docLink = document.createElement('div');\n",
       "        docLink.innerHTML = docLinkHtml;\n",
       "        element.appendChild(docLink);\n",
       "      }\n",
       "    </script>\n",
       "  </div>\n",
       "\n",
       "\n",
       "<div id=\"df-e5423bc7-19b1-4f8b-a0b5-aca2b33bf6ab\">\n",
       "  <button class=\"colab-df-quickchart\" onclick=\"quickchart('df-e5423bc7-19b1-4f8b-a0b5-aca2b33bf6ab')\"\n",
       "            title=\"Suggest charts\"\n",
       "            style=\"display:none;\">\n",
       "\n",
       "<svg xmlns=\"http://www.w3.org/2000/svg\" height=\"24px\"viewBox=\"0 0 24 24\"\n",
       "     width=\"24px\">\n",
       "    <g>\n",
       "        <path d=\"M19 3H5c-1.1 0-2 .9-2 2v14c0 1.1.9 2 2 2h14c1.1 0 2-.9 2-2V5c0-1.1-.9-2-2-2zM9 17H7v-7h2v7zm4 0h-2V7h2v10zm4 0h-2v-4h2v4z\"/>\n",
       "    </g>\n",
       "</svg>\n",
       "  </button>\n",
       "\n",
       "<style>\n",
       "  .colab-df-quickchart {\n",
       "      --bg-color: #E8F0FE;\n",
       "      --fill-color: #1967D2;\n",
       "      --hover-bg-color: #E2EBFA;\n",
       "      --hover-fill-color: #174EA6;\n",
       "      --disabled-fill-color: #AAA;\n",
       "      --disabled-bg-color: #DDD;\n",
       "  }\n",
       "\n",
       "  [theme=dark] .colab-df-quickchart {\n",
       "      --bg-color: #3B4455;\n",
       "      --fill-color: #D2E3FC;\n",
       "      --hover-bg-color: #434B5C;\n",
       "      --hover-fill-color: #FFFFFF;\n",
       "      --disabled-bg-color: #3B4455;\n",
       "      --disabled-fill-color: #666;\n",
       "  }\n",
       "\n",
       "  .colab-df-quickchart {\n",
       "    background-color: var(--bg-color);\n",
       "    border: none;\n",
       "    border-radius: 50%;\n",
       "    cursor: pointer;\n",
       "    display: none;\n",
       "    fill: var(--fill-color);\n",
       "    height: 32px;\n",
       "    padding: 0;\n",
       "    width: 32px;\n",
       "  }\n",
       "\n",
       "  .colab-df-quickchart:hover {\n",
       "    background-color: var(--hover-bg-color);\n",
       "    box-shadow: 0 1px 2px rgba(60, 64, 67, 0.3), 0 1px 3px 1px rgba(60, 64, 67, 0.15);\n",
       "    fill: var(--button-hover-fill-color);\n",
       "  }\n",
       "\n",
       "  .colab-df-quickchart-complete:disabled,\n",
       "  .colab-df-quickchart-complete:disabled:hover {\n",
       "    background-color: var(--disabled-bg-color);\n",
       "    fill: var(--disabled-fill-color);\n",
       "    box-shadow: none;\n",
       "  }\n",
       "\n",
       "  .colab-df-spinner {\n",
       "    border: 2px solid var(--fill-color);\n",
       "    border-color: transparent;\n",
       "    border-bottom-color: var(--fill-color);\n",
       "    animation:\n",
       "      spin 1s steps(1) infinite;\n",
       "  }\n",
       "\n",
       "  @keyframes spin {\n",
       "    0% {\n",
       "      border-color: transparent;\n",
       "      border-bottom-color: var(--fill-color);\n",
       "      border-left-color: var(--fill-color);\n",
       "    }\n",
       "    20% {\n",
       "      border-color: transparent;\n",
       "      border-left-color: var(--fill-color);\n",
       "      border-top-color: var(--fill-color);\n",
       "    }\n",
       "    30% {\n",
       "      border-color: transparent;\n",
       "      border-left-color: var(--fill-color);\n",
       "      border-top-color: var(--fill-color);\n",
       "      border-right-color: var(--fill-color);\n",
       "    }\n",
       "    40% {\n",
       "      border-color: transparent;\n",
       "      border-right-color: var(--fill-color);\n",
       "      border-top-color: var(--fill-color);\n",
       "    }\n",
       "    60% {\n",
       "      border-color: transparent;\n",
       "      border-right-color: var(--fill-color);\n",
       "    }\n",
       "    80% {\n",
       "      border-color: transparent;\n",
       "      border-right-color: var(--fill-color);\n",
       "      border-bottom-color: var(--fill-color);\n",
       "    }\n",
       "    90% {\n",
       "      border-color: transparent;\n",
       "      border-bottom-color: var(--fill-color);\n",
       "    }\n",
       "  }\n",
       "</style>\n",
       "\n",
       "  <script>\n",
       "    async function quickchart(key) {\n",
       "      const quickchartButtonEl =\n",
       "        document.querySelector('#' + key + ' button');\n",
       "      quickchartButtonEl.disabled = true;  // To prevent multiple clicks.\n",
       "      quickchartButtonEl.classList.add('colab-df-spinner');\n",
       "      try {\n",
       "        const charts = await google.colab.kernel.invokeFunction(\n",
       "            'suggestCharts', [key], {});\n",
       "      } catch (error) {\n",
       "        console.error('Error during call to suggestCharts:', error);\n",
       "      }\n",
       "      quickchartButtonEl.classList.remove('colab-df-spinner');\n",
       "      quickchartButtonEl.classList.add('colab-df-quickchart-complete');\n",
       "    }\n",
       "    (() => {\n",
       "      let quickchartButtonEl =\n",
       "        document.querySelector('#df-e5423bc7-19b1-4f8b-a0b5-aca2b33bf6ab button');\n",
       "      quickchartButtonEl.style.display =\n",
       "        google.colab.kernel.accessAllowed ? 'block' : 'none';\n",
       "    })();\n",
       "  </script>\n",
       "</div>\n",
       "    </div>\n",
       "  </div>\n"
      ],
      "application/vnd.google.colaboratory.intrinsic+json": {
       "type": "dataframe",
       "variable_name": "interactions_train_df",
       "summary": "{\n  \"name\": \"interactions_train_df\",\n  \"rows\": 29329,\n  \"fields\": [\n    {\n      \"column\": \"personId\",\n      \"properties\": {\n        \"dtype\": \"category\",\n        \"num_unique_values\": 1112,\n        \"samples\": [\n          \"-7755848049308089190\",\n          \"1037187242736800310\",\n          \"-2233054196721773008\"\n        ],\n        \"semantic_type\": \"\",\n        \"description\": \"\"\n      }\n    },\n    {\n      \"column\": \"contentId\",\n      \"properties\": {\n        \"dtype\": \"category\",\n        \"num_unique_values\": 2366,\n        \"samples\": [\n          \"-4050006690189978332\",\n          \"-3302834510061927448\",\n          \"5311977399951270341\"\n        ],\n        \"semantic_type\": \"\",\n        \"description\": \"\"\n      }\n    },\n    {\n      \"column\": \"eventStrength\",\n      \"properties\": {\n        \"dtype\": \"number\",\n        \"std\": 0.6844127426393564,\n        \"min\": 1.0,\n        \"max\": 7.851749041416057,\n        \"num_unique_values\": 66,\n        \"samples\": [\n          4.832890014164742,\n          5.20945336562895,\n          1.0\n        ],\n        \"semantic_type\": \"\",\n        \"description\": \"\"\n      }\n    },\n    {\n      \"column\": \"last_timestamp\",\n      \"properties\": {\n        \"dtype\": \"number\",\n        \"std\": 4510869,\n        \"min\": 1457963676,\n        \"max\": 1475519416,\n        \"num_unique_values\": 29158,\n        \"samples\": [\n          1464090438,\n          1470064746,\n          1460469219\n        ],\n        \"semantic_type\": \"\",\n        \"description\": \"\"\n      }\n    }\n  ]\n}"
      }
     },
     "metadata": {},
     "execution_count": 12
    }
   ],
   "source": [
    "from sklearn.model_selection import train_test_split\n",
    "\n",
    "split_ts = 1475519530\n",
    "interactions_train_df = interactions_full_df.loc[\n",
    "    interactions_full_df.last_timestamp < split_ts\n",
    "].copy()\n",
    "interactions_test_df = interactions_full_df.loc[\n",
    "    interactions_full_df.last_timestamp >= split_ts\n",
    "].copy()\n",
    "\n",
    "print(f\"# interactions on Train set: {len(interactions_train_df)}\")\n",
    "print(f\"# interactions on Test set: {len(interactions_test_df)}\")\n",
    "\n",
    "interactions_train_df"
   ]
  },
  {
   "cell_type": "markdown",
   "metadata": {
    "id": "h5G3FTYOXLVg"
   },
   "source": [
    "Для удобства подсчёта качества запишем данные в формате, где строка соответствует пользователю, а столбцы будут истинными метками и предсказаниями в виде списков."
   ]
  },
  {
   "cell_type": "code",
   "execution_count": 13,
   "metadata": {
    "colab": {
     "base_uri": "https://localhost:8080/",
     "height": 112
    },
    "id": "RT-_toqfXOa2",
    "outputId": "315bd9c8-f1ac-4e72-a2d8-8ac1869a17f0"
   },
   "outputs": [
    {
     "output_type": "execute_result",
     "data": {
      "text/plain": [
       "                                                       true_train  \\\n",
       "personId                                                            \n",
       "-1007001694607905623  [-5065077552540450930, -793729620925729327]   \n",
       "\n",
       "                                                              true_test  \n",
       "personId                                                                 \n",
       "-1007001694607905623  [-6623581327558800021, 1469580151036142903, 72...  "
      ],
      "text/html": [
       "\n",
       "  <div id=\"df-dbeaa71f-a57d-4545-8172-fa532fefa631\" class=\"colab-df-container\">\n",
       "    <div>\n",
       "<style scoped>\n",
       "    .dataframe tbody tr th:only-of-type {\n",
       "        vertical-align: middle;\n",
       "    }\n",
       "\n",
       "    .dataframe tbody tr th {\n",
       "        vertical-align: top;\n",
       "    }\n",
       "\n",
       "    .dataframe thead th {\n",
       "        text-align: right;\n",
       "    }\n",
       "</style>\n",
       "<table border=\"1\" class=\"dataframe\">\n",
       "  <thead>\n",
       "    <tr style=\"text-align: right;\">\n",
       "      <th></th>\n",
       "      <th>true_train</th>\n",
       "      <th>true_test</th>\n",
       "    </tr>\n",
       "    <tr>\n",
       "      <th>personId</th>\n",
       "      <th></th>\n",
       "      <th></th>\n",
       "    </tr>\n",
       "  </thead>\n",
       "  <tbody>\n",
       "    <tr>\n",
       "      <th>-1007001694607905623</th>\n",
       "      <td>[-5065077552540450930, -793729620925729327]</td>\n",
       "      <td>[-6623581327558800021, 1469580151036142903, 72...</td>\n",
       "    </tr>\n",
       "  </tbody>\n",
       "</table>\n",
       "</div>\n",
       "    <div class=\"colab-df-buttons\">\n",
       "\n",
       "  <div class=\"colab-df-container\">\n",
       "    <button class=\"colab-df-convert\" onclick=\"convertToInteractive('df-dbeaa71f-a57d-4545-8172-fa532fefa631')\"\n",
       "            title=\"Convert this dataframe to an interactive table.\"\n",
       "            style=\"display:none;\">\n",
       "\n",
       "  <svg xmlns=\"http://www.w3.org/2000/svg\" height=\"24px\" viewBox=\"0 -960 960 960\">\n",
       "    <path d=\"M120-120v-720h720v720H120Zm60-500h600v-160H180v160Zm220 220h160v-160H400v160Zm0 220h160v-160H400v160ZM180-400h160v-160H180v160Zm440 0h160v-160H620v160ZM180-180h160v-160H180v160Zm440 0h160v-160H620v160Z\"/>\n",
       "  </svg>\n",
       "    </button>\n",
       "\n",
       "  <style>\n",
       "    .colab-df-container {\n",
       "      display:flex;\n",
       "      gap: 12px;\n",
       "    }\n",
       "\n",
       "    .colab-df-convert {\n",
       "      background-color: #E8F0FE;\n",
       "      border: none;\n",
       "      border-radius: 50%;\n",
       "      cursor: pointer;\n",
       "      display: none;\n",
       "      fill: #1967D2;\n",
       "      height: 32px;\n",
       "      padding: 0 0 0 0;\n",
       "      width: 32px;\n",
       "    }\n",
       "\n",
       "    .colab-df-convert:hover {\n",
       "      background-color: #E2EBFA;\n",
       "      box-shadow: 0px 1px 2px rgba(60, 64, 67, 0.3), 0px 1px 3px 1px rgba(60, 64, 67, 0.15);\n",
       "      fill: #174EA6;\n",
       "    }\n",
       "\n",
       "    .colab-df-buttons div {\n",
       "      margin-bottom: 4px;\n",
       "    }\n",
       "\n",
       "    [theme=dark] .colab-df-convert {\n",
       "      background-color: #3B4455;\n",
       "      fill: #D2E3FC;\n",
       "    }\n",
       "\n",
       "    [theme=dark] .colab-df-convert:hover {\n",
       "      background-color: #434B5C;\n",
       "      box-shadow: 0px 1px 3px 1px rgba(0, 0, 0, 0.15);\n",
       "      filter: drop-shadow(0px 1px 2px rgba(0, 0, 0, 0.3));\n",
       "      fill: #FFFFFF;\n",
       "    }\n",
       "  </style>\n",
       "\n",
       "    <script>\n",
       "      const buttonEl =\n",
       "        document.querySelector('#df-dbeaa71f-a57d-4545-8172-fa532fefa631 button.colab-df-convert');\n",
       "      buttonEl.style.display =\n",
       "        google.colab.kernel.accessAllowed ? 'block' : 'none';\n",
       "\n",
       "      async function convertToInteractive(key) {\n",
       "        const element = document.querySelector('#df-dbeaa71f-a57d-4545-8172-fa532fefa631');\n",
       "        const dataTable =\n",
       "          await google.colab.kernel.invokeFunction('convertToInteractive',\n",
       "                                                    [key], {});\n",
       "        if (!dataTable) return;\n",
       "\n",
       "        const docLinkHtml = 'Like what you see? Visit the ' +\n",
       "          '<a target=\"_blank\" href=https://colab.research.google.com/notebooks/data_table.ipynb>data table notebook</a>'\n",
       "          + ' to learn more about interactive tables.';\n",
       "        element.innerHTML = '';\n",
       "        dataTable['output_type'] = 'display_data';\n",
       "        await google.colab.output.renderOutput(dataTable, element);\n",
       "        const docLink = document.createElement('div');\n",
       "        docLink.innerHTML = docLinkHtml;\n",
       "        element.appendChild(docLink);\n",
       "      }\n",
       "    </script>\n",
       "  </div>\n",
       "\n",
       "    </div>\n",
       "  </div>\n"
      ],
      "application/vnd.google.colaboratory.intrinsic+json": {
       "type": "dataframe",
       "variable_name": "interactions",
       "summary": "{\n  \"name\": \"interactions\",\n  \"rows\": 1112,\n  \"fields\": [\n    {\n      \"column\": \"personId\",\n      \"properties\": {\n        \"dtype\": \"string\",\n        \"num_unique_values\": 1112,\n        \"samples\": [\n          \"-7755848049308089190\",\n          \"1037187242736800310\",\n          \"-2233054196721773008\"\n        ],\n        \"semantic_type\": \"\",\n        \"description\": \"\"\n      }\n    },\n    {\n      \"column\": \"true_train\",\n      \"properties\": {\n        \"dtype\": \"object\",\n        \"semantic_type\": \"\",\n        \"description\": \"\"\n      }\n    },\n    {\n      \"column\": \"true_test\",\n      \"properties\": {\n        \"dtype\": \"object\",\n        \"semantic_type\": \"\",\n        \"description\": \"\"\n      }\n    }\n  ]\n}"
      }
     },
     "metadata": {},
     "execution_count": 13
    }
   ],
   "source": [
    "interactions = (\n",
    "    interactions_train_df.groupby(\"personId\")[\"contentId\"]\n",
    "    .agg(lambda x: list(x))\n",
    "    .reset_index()\n",
    "    .rename(columns={\"contentId\": \"true_train\"})\n",
    "    .set_index(\"personId\")\n",
    ")\n",
    "\n",
    "interactions[\"true_test\"] = interactions_test_df.groupby(\"personId\")[\"contentId\"].agg(\n",
    "    lambda x: list(x)\n",
    ")\n",
    "\n",
    "# заполнение пропусков пустыми списками\n",
    "interactions.loc[pd.isnull(interactions.true_test), \"true_test\"] = [\n",
    "    \"\"\n",
    "    for x in range(\n",
    "        len(interactions.loc[pd.isnull(interactions.true_test), \"true_test\"])\n",
    "    )\n",
    "]\n",
    "\n",
    "interactions.head(1)"
   ]
  },
  {
   "cell_type": "markdown",
   "metadata": {
    "id": "NgDGg3MpKTma"
   },
   "source": [
    "__Baseline__\n",
    "\n",
    "Модель которая рекомендует наиболее популярные статьи. По условию будем рекомендовать 10 статей."
   ]
  },
  {
   "cell_type": "markdown",
   "metadata": {
    "id": "TiR2FJG2LEqb"
   },
   "source": [
    "Определим наиболее популярные статьи по сумме оценок взаимодейтсвия с ними."
   ]
  },
  {
   "cell_type": "code",
   "execution_count": 14,
   "metadata": {
    "colab": {
     "base_uri": "https://localhost:8080/"
    },
    "id": "HFdtivQIKTHu",
    "outputId": "b2d06c76-7b34-48c6-fede-721a55b2cfc2"
   },
   "outputs": [
    {
     "output_type": "execute_result",
     "data": {
      "text/plain": [
       "array(['-6783772548752091658', '-133139342397538859',\n",
       "       '-8208801367848627943', ..., '6240076106289531207',\n",
       "       '6541551984368289722', '7083316110921342538'], dtype=object)"
      ]
     },
     "metadata": {},
     "execution_count": 14
    }
   ],
   "source": [
    "popular_content = (\n",
    "    interactions_train_df.groupby(\"contentId\")\n",
    "    .eventStrength.sum()\n",
    "    .reset_index()\n",
    "    .sort_values(\"eventStrength\", ascending=False)\n",
    "    .contentId.values\n",
    ")\n",
    "\n",
    "popular_content"
   ]
  },
  {
   "cell_type": "code",
   "execution_count": 15,
   "metadata": {
    "colab": {
     "base_uri": "https://localhost:8080/"
    },
    "id": "Y9IDPPolLbMC",
    "outputId": "aa03a981-708a-455d-f880-46025685c0d3"
   },
   "outputs": [
    {
     "output_type": "stream",
     "name": "stdout",
     "text": [
      "['Novo workaholic trabalha, pratica esportes e tem tempo para a família. Conheça']\n"
     ]
    }
   ],
   "source": [
    "print(articles_df.loc[articles_df.contentId == popular_content[1]][\"title\"].values)"
   ]
  },
  {
   "cell_type": "markdown",
   "metadata": {
    "id": "z0uo-imlOBHy"
   },
   "source": [
    "Теперь порекомендуем пользователям самые попоулярные статьи, такие с которыми  они еще не взаимодействовали."
   ]
  },
  {
   "cell_type": "code",
   "execution_count": 16,
   "metadata": {
    "colab": {
     "base_uri": "https://localhost:8080/"
    },
    "id": "TmcMhGsqLbOQ",
    "outputId": "d5c0be66-f09e-4133-b5e8-a06e3aaa0393"
   },
   "outputs": [
    {
     "output_type": "execute_result",
     "data": {
      "text/plain": [
       "array(['-6783772548752091658', '-133139342397538859',\n",
       "       '-8208801367848627943', '8224860111193157980',\n",
       "       '7507067965574797372', '-2358756719610361882',\n",
       "       '-6843047699859121724', '-1297580205670251233',\n",
       "       '8657408509986329668', '3367026768872537336'], dtype=object)"
      ]
     },
     "metadata": {},
     "execution_count": 16
    }
   ],
   "source": [
    "top_k = 10\n",
    "\n",
    "interactions[\"prediction_popular\"] = interactions[\"true_train\"].apply(\n",
    "    lambda x: popular_content[~np.in1d(popular_content, x)][:top_k]\n",
    ")\n",
    "\n",
    "interactions[\"prediction_popular\"][0]"
   ]
  },
  {
   "cell_type": "code",
   "execution_count": 17,
   "metadata": {
    "colab": {
     "base_uri": "https://localhost:8080/",
     "height": 175
    },
    "id": "xF_O5yFIKTKK",
    "outputId": "630509be-0f3f-44d5-b55e-263bbb46cad3"
   },
   "outputs": [
    {
     "output_type": "execute_result",
     "data": {
      "text/plain": [
       "                                                             true_train  \\\n",
       "personId                                                                  \n",
       "-1007001694607905623        [-5065077552540450930, -793729620925729327]   \n",
       "-1032019229384696495  [-1006791494035379303, -1039912738963181810, -...   \n",
       "-108842214936804958   [-1196068832249300490, -133139342397538859, -1...   \n",
       "\n",
       "                                                              true_test  \\\n",
       "personId                                                                  \n",
       "-1007001694607905623  [-6623581327558800021, 1469580151036142903, 72...   \n",
       "-1032019229384696495  [-1415040208471067980, -2555801390963402198, -...   \n",
       "-108842214936804958   [-2780168264183400543, -3060116862184714437, -...   \n",
       "\n",
       "                                                     prediction_popular  \n",
       "personId                                                                 \n",
       "-1007001694607905623  [-6783772548752091658, -133139342397538859, -8...  \n",
       "-1032019229384696495  [-6783772548752091658, -133139342397538859, -8...  \n",
       "-108842214936804958   [-6783772548752091658, -8208801367848627943, 8...  "
      ],
      "text/html": [
       "\n",
       "  <div id=\"df-90d8bcf9-7588-4705-b50e-23f9afaf42e1\" class=\"colab-df-container\">\n",
       "    <div>\n",
       "<style scoped>\n",
       "    .dataframe tbody tr th:only-of-type {\n",
       "        vertical-align: middle;\n",
       "    }\n",
       "\n",
       "    .dataframe tbody tr th {\n",
       "        vertical-align: top;\n",
       "    }\n",
       "\n",
       "    .dataframe thead th {\n",
       "        text-align: right;\n",
       "    }\n",
       "</style>\n",
       "<table border=\"1\" class=\"dataframe\">\n",
       "  <thead>\n",
       "    <tr style=\"text-align: right;\">\n",
       "      <th></th>\n",
       "      <th>true_train</th>\n",
       "      <th>true_test</th>\n",
       "      <th>prediction_popular</th>\n",
       "    </tr>\n",
       "    <tr>\n",
       "      <th>personId</th>\n",
       "      <th></th>\n",
       "      <th></th>\n",
       "      <th></th>\n",
       "    </tr>\n",
       "  </thead>\n",
       "  <tbody>\n",
       "    <tr>\n",
       "      <th>-1007001694607905623</th>\n",
       "      <td>[-5065077552540450930, -793729620925729327]</td>\n",
       "      <td>[-6623581327558800021, 1469580151036142903, 72...</td>\n",
       "      <td>[-6783772548752091658, -133139342397538859, -8...</td>\n",
       "    </tr>\n",
       "    <tr>\n",
       "      <th>-1032019229384696495</th>\n",
       "      <td>[-1006791494035379303, -1039912738963181810, -...</td>\n",
       "      <td>[-1415040208471067980, -2555801390963402198, -...</td>\n",
       "      <td>[-6783772548752091658, -133139342397538859, -8...</td>\n",
       "    </tr>\n",
       "    <tr>\n",
       "      <th>-108842214936804958</th>\n",
       "      <td>[-1196068832249300490, -133139342397538859, -1...</td>\n",
       "      <td>[-2780168264183400543, -3060116862184714437, -...</td>\n",
       "      <td>[-6783772548752091658, -8208801367848627943, 8...</td>\n",
       "    </tr>\n",
       "  </tbody>\n",
       "</table>\n",
       "</div>\n",
       "    <div class=\"colab-df-buttons\">\n",
       "\n",
       "  <div class=\"colab-df-container\">\n",
       "    <button class=\"colab-df-convert\" onclick=\"convertToInteractive('df-90d8bcf9-7588-4705-b50e-23f9afaf42e1')\"\n",
       "            title=\"Convert this dataframe to an interactive table.\"\n",
       "            style=\"display:none;\">\n",
       "\n",
       "  <svg xmlns=\"http://www.w3.org/2000/svg\" height=\"24px\" viewBox=\"0 -960 960 960\">\n",
       "    <path d=\"M120-120v-720h720v720H120Zm60-500h600v-160H180v160Zm220 220h160v-160H400v160Zm0 220h160v-160H400v160ZM180-400h160v-160H180v160Zm440 0h160v-160H620v160ZM180-180h160v-160H180v160Zm440 0h160v-160H620v160Z\"/>\n",
       "  </svg>\n",
       "    </button>\n",
       "\n",
       "  <style>\n",
       "    .colab-df-container {\n",
       "      display:flex;\n",
       "      gap: 12px;\n",
       "    }\n",
       "\n",
       "    .colab-df-convert {\n",
       "      background-color: #E8F0FE;\n",
       "      border: none;\n",
       "      border-radius: 50%;\n",
       "      cursor: pointer;\n",
       "      display: none;\n",
       "      fill: #1967D2;\n",
       "      height: 32px;\n",
       "      padding: 0 0 0 0;\n",
       "      width: 32px;\n",
       "    }\n",
       "\n",
       "    .colab-df-convert:hover {\n",
       "      background-color: #E2EBFA;\n",
       "      box-shadow: 0px 1px 2px rgba(60, 64, 67, 0.3), 0px 1px 3px 1px rgba(60, 64, 67, 0.15);\n",
       "      fill: #174EA6;\n",
       "    }\n",
       "\n",
       "    .colab-df-buttons div {\n",
       "      margin-bottom: 4px;\n",
       "    }\n",
       "\n",
       "    [theme=dark] .colab-df-convert {\n",
       "      background-color: #3B4455;\n",
       "      fill: #D2E3FC;\n",
       "    }\n",
       "\n",
       "    [theme=dark] .colab-df-convert:hover {\n",
       "      background-color: #434B5C;\n",
       "      box-shadow: 0px 1px 3px 1px rgba(0, 0, 0, 0.15);\n",
       "      filter: drop-shadow(0px 1px 2px rgba(0, 0, 0, 0.3));\n",
       "      fill: #FFFFFF;\n",
       "    }\n",
       "  </style>\n",
       "\n",
       "    <script>\n",
       "      const buttonEl =\n",
       "        document.querySelector('#df-90d8bcf9-7588-4705-b50e-23f9afaf42e1 button.colab-df-convert');\n",
       "      buttonEl.style.display =\n",
       "        google.colab.kernel.accessAllowed ? 'block' : 'none';\n",
       "\n",
       "      async function convertToInteractive(key) {\n",
       "        const element = document.querySelector('#df-90d8bcf9-7588-4705-b50e-23f9afaf42e1');\n",
       "        const dataTable =\n",
       "          await google.colab.kernel.invokeFunction('convertToInteractive',\n",
       "                                                    [key], {});\n",
       "        if (!dataTable) return;\n",
       "\n",
       "        const docLinkHtml = 'Like what you see? Visit the ' +\n",
       "          '<a target=\"_blank\" href=https://colab.research.google.com/notebooks/data_table.ipynb>data table notebook</a>'\n",
       "          + ' to learn more about interactive tables.';\n",
       "        element.innerHTML = '';\n",
       "        dataTable['output_type'] = 'display_data';\n",
       "        await google.colab.output.renderOutput(dataTable, element);\n",
       "        const docLink = document.createElement('div');\n",
       "        docLink.innerHTML = docLinkHtml;\n",
       "        element.appendChild(docLink);\n",
       "      }\n",
       "    </script>\n",
       "  </div>\n",
       "\n",
       "\n",
       "<div id=\"df-852ced4e-2957-4d92-b5c8-e0045b9cb110\">\n",
       "  <button class=\"colab-df-quickchart\" onclick=\"quickchart('df-852ced4e-2957-4d92-b5c8-e0045b9cb110')\"\n",
       "            title=\"Suggest charts\"\n",
       "            style=\"display:none;\">\n",
       "\n",
       "<svg xmlns=\"http://www.w3.org/2000/svg\" height=\"24px\"viewBox=\"0 0 24 24\"\n",
       "     width=\"24px\">\n",
       "    <g>\n",
       "        <path d=\"M19 3H5c-1.1 0-2 .9-2 2v14c0 1.1.9 2 2 2h14c1.1 0 2-.9 2-2V5c0-1.1-.9-2-2-2zM9 17H7v-7h2v7zm4 0h-2V7h2v10zm4 0h-2v-4h2v4z\"/>\n",
       "    </g>\n",
       "</svg>\n",
       "  </button>\n",
       "\n",
       "<style>\n",
       "  .colab-df-quickchart {\n",
       "      --bg-color: #E8F0FE;\n",
       "      --fill-color: #1967D2;\n",
       "      --hover-bg-color: #E2EBFA;\n",
       "      --hover-fill-color: #174EA6;\n",
       "      --disabled-fill-color: #AAA;\n",
       "      --disabled-bg-color: #DDD;\n",
       "  }\n",
       "\n",
       "  [theme=dark] .colab-df-quickchart {\n",
       "      --bg-color: #3B4455;\n",
       "      --fill-color: #D2E3FC;\n",
       "      --hover-bg-color: #434B5C;\n",
       "      --hover-fill-color: #FFFFFF;\n",
       "      --disabled-bg-color: #3B4455;\n",
       "      --disabled-fill-color: #666;\n",
       "  }\n",
       "\n",
       "  .colab-df-quickchart {\n",
       "    background-color: var(--bg-color);\n",
       "    border: none;\n",
       "    border-radius: 50%;\n",
       "    cursor: pointer;\n",
       "    display: none;\n",
       "    fill: var(--fill-color);\n",
       "    height: 32px;\n",
       "    padding: 0;\n",
       "    width: 32px;\n",
       "  }\n",
       "\n",
       "  .colab-df-quickchart:hover {\n",
       "    background-color: var(--hover-bg-color);\n",
       "    box-shadow: 0 1px 2px rgba(60, 64, 67, 0.3), 0 1px 3px 1px rgba(60, 64, 67, 0.15);\n",
       "    fill: var(--button-hover-fill-color);\n",
       "  }\n",
       "\n",
       "  .colab-df-quickchart-complete:disabled,\n",
       "  .colab-df-quickchart-complete:disabled:hover {\n",
       "    background-color: var(--disabled-bg-color);\n",
       "    fill: var(--disabled-fill-color);\n",
       "    box-shadow: none;\n",
       "  }\n",
       "\n",
       "  .colab-df-spinner {\n",
       "    border: 2px solid var(--fill-color);\n",
       "    border-color: transparent;\n",
       "    border-bottom-color: var(--fill-color);\n",
       "    animation:\n",
       "      spin 1s steps(1) infinite;\n",
       "  }\n",
       "\n",
       "  @keyframes spin {\n",
       "    0% {\n",
       "      border-color: transparent;\n",
       "      border-bottom-color: var(--fill-color);\n",
       "      border-left-color: var(--fill-color);\n",
       "    }\n",
       "    20% {\n",
       "      border-color: transparent;\n",
       "      border-left-color: var(--fill-color);\n",
       "      border-top-color: var(--fill-color);\n",
       "    }\n",
       "    30% {\n",
       "      border-color: transparent;\n",
       "      border-left-color: var(--fill-color);\n",
       "      border-top-color: var(--fill-color);\n",
       "      border-right-color: var(--fill-color);\n",
       "    }\n",
       "    40% {\n",
       "      border-color: transparent;\n",
       "      border-right-color: var(--fill-color);\n",
       "      border-top-color: var(--fill-color);\n",
       "    }\n",
       "    60% {\n",
       "      border-color: transparent;\n",
       "      border-right-color: var(--fill-color);\n",
       "    }\n",
       "    80% {\n",
       "      border-color: transparent;\n",
       "      border-right-color: var(--fill-color);\n",
       "      border-bottom-color: var(--fill-color);\n",
       "    }\n",
       "    90% {\n",
       "      border-color: transparent;\n",
       "      border-bottom-color: var(--fill-color);\n",
       "    }\n",
       "  }\n",
       "</style>\n",
       "\n",
       "  <script>\n",
       "    async function quickchart(key) {\n",
       "      const quickchartButtonEl =\n",
       "        document.querySelector('#' + key + ' button');\n",
       "      quickchartButtonEl.disabled = true;  // To prevent multiple clicks.\n",
       "      quickchartButtonEl.classList.add('colab-df-spinner');\n",
       "      try {\n",
       "        const charts = await google.colab.kernel.invokeFunction(\n",
       "            'suggestCharts', [key], {});\n",
       "      } catch (error) {\n",
       "        console.error('Error during call to suggestCharts:', error);\n",
       "      }\n",
       "      quickchartButtonEl.classList.remove('colab-df-spinner');\n",
       "      quickchartButtonEl.classList.add('colab-df-quickchart-complete');\n",
       "    }\n",
       "    (() => {\n",
       "      let quickchartButtonEl =\n",
       "        document.querySelector('#df-852ced4e-2957-4d92-b5c8-e0045b9cb110 button');\n",
       "      quickchartButtonEl.style.display =\n",
       "        google.colab.kernel.accessAllowed ? 'block' : 'none';\n",
       "    })();\n",
       "  </script>\n",
       "</div>\n",
       "    </div>\n",
       "  </div>\n"
      ],
      "application/vnd.google.colaboratory.intrinsic+json": {
       "type": "dataframe",
       "variable_name": "interactions",
       "summary": "{\n  \"name\": \"interactions\",\n  \"rows\": 1112,\n  \"fields\": [\n    {\n      \"column\": \"personId\",\n      \"properties\": {\n        \"dtype\": \"string\",\n        \"num_unique_values\": 1112,\n        \"samples\": [\n          \"-7755848049308089190\",\n          \"1037187242736800310\",\n          \"-2233054196721773008\"\n        ],\n        \"semantic_type\": \"\",\n        \"description\": \"\"\n      }\n    },\n    {\n      \"column\": \"true_train\",\n      \"properties\": {\n        \"dtype\": \"object\",\n        \"semantic_type\": \"\",\n        \"description\": \"\"\n      }\n    },\n    {\n      \"column\": \"true_test\",\n      \"properties\": {\n        \"dtype\": \"object\",\n        \"semantic_type\": \"\",\n        \"description\": \"\"\n      }\n    },\n    {\n      \"column\": \"prediction_popular\",\n      \"properties\": {\n        \"dtype\": \"object\",\n        \"semantic_type\": \"\",\n        \"description\": \"\"\n      }\n    }\n  ]\n}"
      }
     },
     "metadata": {},
     "execution_count": 17
    }
   ],
   "source": [
    "interactions.head(3)"
   ]
  },
  {
   "cell_type": "markdown",
   "metadata": {
    "id": "FWTbXbBbQa1d"
   },
   "source": [
    "Посчитаем для каждого пользователя долю угаданных рекомендаций. Усредним по всем пользователям."
   ]
  },
  {
   "cell_type": "code",
   "execution_count": 18,
   "metadata": {
    "id": "AkiXPWKQPUTE"
   },
   "outputs": [],
   "source": [
    "def calc_precision(column):\n",
    "    return (\n",
    "        interactions.apply(\n",
    "            lambda row: len(set(row[\"true_test\"]).intersection(set(row[column])))\n",
    "            / min(len(row[\"true_test\"]) + 0.001, 10.0),\n",
    "            axis=1,\n",
    "        )\n",
    "    ).mean()"
   ]
  },
  {
   "cell_type": "code",
   "execution_count": 19,
   "metadata": {
    "colab": {
     "base_uri": "https://localhost:8080/"
    },
    "id": "dOcwmAefQNrI",
    "outputId": "4ed936c0-2e99-463a-b08d-b7053d47487b"
   },
   "outputs": [
    {
     "output_type": "execute_result",
     "data": {
      "text/plain": [
       "0.006454207722621089"
      ]
     },
     "metadata": {},
     "execution_count": 19
    }
   ],
   "source": [
    "calc_precision(\"prediction_popular\")"
   ]
  },
  {
   "cell_type": "markdown",
   "metadata": {
    "id": "-UWDyWKsamSa"
   },
   "source": [
    "# Библиотека LightFM"
   ]
  },
  {
   "cell_type": "markdown",
   "metadata": {
    "id": "L-iXjvdZa25Z"
   },
   "source": [
    "Для рекомендации Вы будете пользоваться библиотекой [LightFM](https://making.lyst.com/lightfm/docs/home.html), в которой реализованы популярные алгоритмы. Для оценивания качества рекомендации, как и на семинаре, будем пользоваться метрикой *precision@10*."
   ]
  },
  {
   "cell_type": "code",
   "execution_count": 20,
   "metadata": {
    "id": "GE_chrYN2lNw"
   },
   "outputs": [],
   "source": [
    "!pip install lightfm > None"
   ]
  },
  {
   "cell_type": "code",
   "execution_count": 121,
   "metadata": {
    "id": "Qtyn38PZXPLf"
   },
   "outputs": [],
   "source": [
    "from lightfm import LightFM\n",
    "from lightfm.evaluation import precision_at_k"
   ]
  },
  {
   "cell_type": "markdown",
   "metadata": {
    "id": "0CjyGqulcZTf"
   },
   "source": [
    "## Задание 1 (1.5 балла)"
   ]
  },
  {
   "cell_type": "markdown",
   "metadata": {
    "id": "4Sof6V5Dd4h9"
   },
   "source": [
    "Модели в LightFM работают с разреженными матрицами. Создайте разреженные матрицы `data_train` и `data_test` (размером количество пользователей на количество статей), такие что на пересечении строки пользователя и столбца статьи стоит сила их взаимодействия, если взаимодействие было, и стоит ноль, если взаимодействия не было."
   ]
  },
  {
   "cell_type": "code",
   "execution_count": 22,
   "metadata": {
    "id": "7voocRLwJQAr"
   },
   "outputs": [],
   "source": [
    "from scipy.sparse import csr_matrix"
   ]
  },
  {
   "cell_type": "code",
   "execution_count": 23,
   "metadata": {
    "id": "Zt4G98_4M_eM"
   },
   "outputs": [],
   "source": [
    "def sparse(users, contents, df):\n",
    "    # Создаем словари для быстрого доступа к индексам\n",
    "    user_to_idx = {user: idx for idx, user in enumerate(users)}\n",
    "    content_to_idx = {content: idx for idx, content in enumerate(contents)}\n",
    "\n",
    "    # Инициализируем разреженную матрицу\n",
    "    data_matrix = csr_matrix((len(users), len(contents)), dtype=np.float32)\n",
    "\n",
    "    # Заполняем матрицу данными из DataFrame\n",
    "    for idx, row in df.iterrows():\n",
    "        user_idx = user_to_idx.get(row[\"personId\"])\n",
    "        content_idx = content_to_idx.get(row[\"contentId\"])\n",
    "        if pd.notnull(row[\"eventStrength\"]):\n",
    "            data_matrix[user_idx, content_idx] = row[\"eventStrength\"]\n",
    "\n",
    "    return data_matrix"
   ]
  },
  {
   "cell_type": "code",
   "execution_count": 24,
   "metadata": {
    "id": "emhgN0dHNs9t"
   },
   "outputs": [],
   "source": [
    "all_users = set(interactions_test_df[\"personId\"]) | set(\n",
    "    interactions_train_df[\"personId\"]\n",
    ")\n",
    "all_contents = set(interactions_train_df[\"contentId\"]) | set(\n",
    "    interactions_test_df[\"contentId\"]\n",
    ")"
   ]
  },
  {
   "cell_type": "code",
   "execution_count": 25,
   "metadata": {
    "colab": {
     "base_uri": "https://localhost:8080/"
    },
    "id": "hbkZGHuVNs_6",
    "outputId": "2d046ece-0e65-4589-e4fb-5838a3a7aa2b"
   },
   "outputs": [
    {
     "output_type": "stream",
     "name": "stderr",
     "text": [
      "/usr/local/lib/python3.10/dist-packages/scipy/sparse/_index.py:100: SparseEfficiencyWarning: Changing the sparsity structure of a csr_matrix is expensive. lil_matrix is more efficient.\n",
      "  self._set_intXint(row, col, x.flat[0])\n"
     ]
    }
   ],
   "source": [
    "data_train = sparse(all_users, all_contents, interactions_train_df)\n",
    "data_test = sparse(all_users, all_contents, interactions_test_df)"
   ]
  },
  {
   "cell_type": "markdown",
   "metadata": {
    "id": "AiNGVzTveRXE"
   },
   "source": [
    "## Задание 2 (0.5 балла)"
   ]
  },
  {
   "cell_type": "markdown",
   "metadata": {
    "id": "ZPfVK3STeryM"
   },
   "source": [
    "Обучите модель LightFM с `loss=\"warp\"` и посчитайте *precision@10* на тесте."
   ]
  },
  {
   "cell_type": "code",
   "execution_count": 26,
   "metadata": {
    "colab": {
     "base_uri": "https://localhost:8080/"
    },
    "id": "ymM_kFriO7rA",
    "outputId": "6b461359-bb95-4ffb-8211-bee4bf619569"
   },
   "outputs": [
    {
     "output_type": "stream",
     "name": "stdout",
     "text": [
      "precision@10: 0.0059063137\n"
     ]
    }
   ],
   "source": [
    "model = LightFM(k=10, loss=\"warp\", random_state=0)\n",
    "model.fit(data_train, epochs=50, num_threads=2)\n",
    "\n",
    "print(\"precision@10:\", precision_at_k(model, data_test, data_train, k=10).mean())"
   ]
  },
  {
   "cell_type": "markdown",
   "metadata": {
    "id": "qZDsG1iAfdrl"
   },
   "source": [
    "## Задание 3 (2 балла)"
   ]
  },
  {
   "cell_type": "markdown",
   "metadata": {
    "id": "F93chvtbgA9N"
   },
   "source": [
    "При вызове метода `fit` LightFM позволяет передавать в `item_features` признаковое описание объектов. Воспользуемся этим. Будем получать признаковое описание из текста статьи в виде [TF-IDF](https://ru.wikipedia.org/wiki/TF-IDF) (можно воспользоваться `TfidfVectorizer` из scikit-learn). Создайте матрицу `feat` размером количесвто статей на размер признакового описание и обучите LightFM с `loss=\"warp\"` и посчитайте precision@10 на тесте."
   ]
  },
  {
   "cell_type": "code",
   "execution_count": 27,
   "metadata": {
    "id": "5SvUi_Fofgf5"
   },
   "outputs": [],
   "source": [
    "from sklearn.feature_extraction.text import TfidfVectorizer"
   ]
  },
  {
   "cell_type": "code",
   "execution_count": 28,
   "metadata": {
    "id": "xV0QzYLOSs9V"
   },
   "outputs": [],
   "source": [
    "tfidf_vectorizer = TfidfVectorizer()\n",
    "item_features_matrix = tfidf_vectorizer.fit_transform(articles_df[\"text\"])"
   ]
  },
  {
   "cell_type": "code",
   "execution_count": 29,
   "metadata": {
    "colab": {
     "base_uri": "https://localhost:8080/"
    },
    "id": "KgxLWspRSs_m",
    "outputId": "c8c640d7-9f29-4a84-a15d-279e08c6192b"
   },
   "outputs": [
    {
     "output_type": "execute_result",
     "data": {
      "text/plain": [
       "<lightfm.lightfm.LightFM at 0x7866ebb51d20>"
      ]
     },
     "metadata": {},
     "execution_count": 29
    }
   ],
   "source": [
    "model = LightFM(k=10, loss=\"warp\")\n",
    "model.fit(data_train, item_features=item_features_matrix, epochs=50, num_threads=2)"
   ]
  },
  {
   "cell_type": "code",
   "execution_count": 30,
   "metadata": {
    "colab": {
     "base_uri": "https://localhost:8080/"
    },
    "id": "ZwWjTMt3StB3",
    "outputId": "29da97db-55fb-4447-d339-56f3dd89238f"
   },
   "outputs": [
    {
     "output_type": "stream",
     "name": "stdout",
     "text": [
      "precision@10: 0.0073319753\n"
     ]
    }
   ],
   "source": [
    "precision = precision_at_k(\n",
    "    model, data_test, data_train, item_features=item_features_matrix, k=10\n",
    ").mean()\n",
    "print(\"precision@10:\", precision)"
   ]
  },
  {
   "cell_type": "markdown",
   "metadata": {
    "id": "8Lwuex6PpsFw"
   },
   "source": [
    "## Задание 4 (1.5 балла)"
   ]
  },
  {
   "cell_type": "markdown",
   "metadata": {
    "id": "5aZcHjSzp2cZ"
   },
   "source": [
    "В задании 3 мы использовали сырой текст статей. В этом задании необходимо сначала сделать предобработку текста (привести к нижнему регистру, убрать стоп слова, привести слова к номральной форме и т.д.), после чего обучите модель и оценить качество на тестовых данных."
   ]
  },
  {
   "cell_type": "code",
   "execution_count": 31,
   "metadata": {
    "id": "nTnh_nq5WBR_"
   },
   "outputs": [],
   "source": [
    "import nltk\n",
    "from nltk.corpus import stopwords\n",
    "from nltk.tokenize import word_tokenize\n",
    "from nltk.stem import WordNetLemmatizer\n",
    "from sklearn.feature_extraction.text import TfidfVectorizer\n",
    "from scipy.sparse import hstack"
   ]
  },
  {
   "cell_type": "code",
   "execution_count": 32,
   "metadata": {
    "colab": {
     "base_uri": "https://localhost:8080/"
    },
    "id": "RXYTVoY-WBUO",
    "outputId": "c1748bed-6786-49ba-9a93-d1295e9244b5"
   },
   "outputs": [
    {
     "output_type": "stream",
     "name": "stderr",
     "text": [
      "[nltk_data] Downloading package punkt to /root/nltk_data...\n",
      "[nltk_data]   Unzipping tokenizers/punkt.zip.\n",
      "[nltk_data] Downloading package wordnet to /root/nltk_data...\n",
      "[nltk_data] Downloading package stopwords to /root/nltk_data...\n",
      "[nltk_data]   Unzipping corpora/stopwords.zip.\n"
     ]
    }
   ],
   "source": [
    "# Загружаем стоп-слова\n",
    "nltk.download(\"punkt\")\n",
    "nltk.download(\"wordnet\")\n",
    "nltk.download(\"stopwords\")\n",
    "stop_words = set(stopwords.words(\"english\"))\n",
    "\n",
    "# Инициализируем лемматизатор и векторизатор TF-IDF\n",
    "lemmatizer = WordNetLemmatizer()\n",
    "tfidf_vectorizer = TfidfVectorizer(stop_words=stop_words)"
   ]
  },
  {
   "cell_type": "code",
   "execution_count": 33,
   "metadata": {
    "id": "qYkJfQgfWBWW"
   },
   "outputs": [],
   "source": [
    "# Функция для предобработки текста\n",
    "def preprocess_text(text):\n",
    "    # Приведение к нижнему регистру\n",
    "    text = text.lower()\n",
    "    # Токенизация\n",
    "    words = word_tokenize(text)\n",
    "    # Удаление стоп-слов и лемматизация\n",
    "    words = [lemmatizer.lemmatize(word) for word in words if word not in stop_words]\n",
    "    return \" \".join(words)"
   ]
  },
  {
   "cell_type": "code",
   "execution_count": 34,
   "metadata": {
    "colab": {
     "base_uri": "https://localhost:8080/",
     "height": 122
    },
    "id": "A-W4APiKWR_n",
    "outputId": "0bdd327d-71ff-4b5b-b1dd-85757bb53859"
   },
   "outputs": [
    {
     "output_type": "execute_result",
     "data": {
      "text/plain": [
       "'All of this work is still very early. The first full public version of the Ethereum software was recently released, and the system could face some of the same technical and legal problems that have tarnished Bitcoin. Many Bitcoin advocates say Ethereum will face more security problems than Bitcoin because of the greater complexity of the software. Thus far, Ethereum has faced much less testing, and many fewer attacks, than Bitcoin. The novel design of Ethereum may also invite intense scrutiny by authorities given that potentially fraudulent contracts, like the Ponzi schemes, can be written directly into the Ethereum system. But the sophisticated capabilities of the system have made it fascinating to some executives in corporate America. IBM said last year that it was experimenting with Ethereum as a way to control real world objects in the so-called Internet of things. Microsoft has been working on several projects that make it easier to use Ethereum on its computing cloud, Azure. \"Ethereum is a general platform where you can solve problems in many industries using a fairly elegant solution - the most elegant solution we have seen to date,\" said Marley Gray, a director of business development and strategy at Microsoft. Mr. Gray is responsible for Microsoft\\'s work with blockchains, the database concept that Bitcoin introduced. Blockchains are designed to store transactions and data without requiring any central authority or repository. Blockchain ledgers are generally maintained and updated by networks of computers working together - somewhat similar to the way that Wikipedia is updated and maintained by all its users. Many corporations, though, have created their own Ethereum networks with private blockchains, independent of the public system, and that could ultimately detract from the value of the individual unit in the Ethereum system - known as an Ether - that people have recently been buying. The interest in Ethereum is one sign of the corporate fascination with blockchains. Most major banks have expressed an interest in using them to make trading and money transfer faster and more efficient. On Tuesday, executives from the largest banks will gather for a conference, \"Blockchain: Tapping I nto the Real Potential , Cutting Through the Hype.\" Many of these banks have recently been looking at how some version of Ethereum might be put to use. JPMorgan, for instance, has created a specific tool, Masala, that allows some of its internal databases to interact with an Ethereum blockchain. Michael Novogratz, a former top executive at the private equity firm Fortress Investing Group, who helped lead Fortress\\'s investment in Bitcoin, has been looking at Ethereum since he left Fortress last fall. Mr. Novogratz said that he made a \"significant\" purchase of Ether in January. He has also heard how the financial industry\\'s chatter about the virtual currency has evolved. \"A lot of the more established players were thinking, \\'It\\'s still an experiment,\\' \" he said. \"It feels like in the last two to three months that experiment is at least getting a lot more validation.\" Since the beginning of the year, the value of an individual unit of Ether has soared as high as $12 from around $1. That has brought the value of all existing Ether to over $1 billion at times, significantly more than any virtual currency other than Bitcoin, which had over $6 billion in value outstanding last week. Since Bitcoin was invented, there have been many so-called alt-coins that have tried to improve on Bitcoin, but none have won the following of Ethereum. Unlike Bitcoin, which was released in 2009 by a mysterious creator known as Satoshi Nakamoto, Ethereum was created in a more transparent fashion by a 21-year-old Russian-Canadian, Vitalik Buterin, after he dropped out of Waterloo University in Ontario. The most basic aim of Ethereum was to make it possible to program binding agreements into the blockchain - the smart contract concept. Two people, for instance, could program a bet on a sports game directly into the Ethereum blockchain. Once the final score came in from a mutually agreed upon source - say, The Associated Press - the money would be automatically transferred to the winning party. Ether can be used as a currency in this system, but Ether are also necessary to pay for the network power needed to process the bet. The Ethereum system has sometimes been described as a single shared computer that is run by the network of users and on which resources are parceled out and paid for by Ether. A team of seven co-founders helped Mr. Buterin write up the software after he released the initial description of the system. Mr. Buterin\\'s team raised $18 million in 2014 through a presale of Ether, which helped fund the Ethereum Foundation, which supports the software\\'s development. Like Bitcoin, Ethereum has succeeded by attracting a dedicated network of followers who have helped support the software, partly in the hope that their Ether will increase in value if the system succeeds. Last week, there were 5,800 computers - or nodes - helping support the network around the world. The Bitcoin network had about 7,400 nodes. One of Mr. Buterin\\'s co-founders, Joseph Lubin, has set up ConsenSys, a company based in Brooklyn that has hired over 50 developers to build applications on the Ethereum system, including one that enables music distribution and another that allows for a new kind of financial auditing. The ConsenSys offices are in an old industrial building in the Bushwick section of Brooklyn. The office is essentially one large room, with all the messy trademarks of a start-up operation, including white boards on the walls and computer parts lying around. Mr. Lubin said he had thrown himself into Ethereum after starting to think that it delivered on some of the failed promise of Bitcoin, especially when it came to allowing new kinds of online contracts and markets. \"Bitcoin presented the broad strokes vision, and Ethereum presented the crystallization of how to deliver that vision,\" he said. Joseph Bonneau, a computer science researcher at Stanford who studies so-called crypto-currencies, said Ethereum was the first system that had really caught his interest since Bitcoin. It is far from a sure thing, he cautioned. \"Bitcoin is still probably the safest bet, but Ethereum is certainly No. 2, and some folks will say it is more likely to be around in 10 years,\" Mr. Bonneau said. \"It will depend if any real markets develop around it. If there is some actual application.\"'"
      ],
      "application/vnd.google.colaboratory.intrinsic+json": {
       "type": "string"
      }
     },
     "metadata": {},
     "execution_count": 34
    }
   ],
   "source": [
    "articles_df[\"text\"].iloc[0]"
   ]
  },
  {
   "cell_type": "code",
   "execution_count": 35,
   "metadata": {
    "id": "2D--oDP5WBYk"
   },
   "outputs": [],
   "source": [
    "# Предобработка текста статей\n",
    "articles_df[\"preprocessed_text\"] = articles_df[\"text\"].apply(preprocess_text)"
   ]
  },
  {
   "cell_type": "code",
   "execution_count": 36,
   "metadata": {
    "colab": {
     "base_uri": "https://localhost:8080/",
     "height": 122
    },
    "id": "-1Eca3O6YA5J",
    "outputId": "9d143607-7b55-43a6-82b5-bff04ca6f04e"
   },
   "outputs": [
    {
     "output_type": "execute_result",
     "data": {
      "text/plain": [
       "\"work still early . first full public version ethereum software recently released , system could face technical legal problem tarnished bitcoin . many bitcoin advocate say ethereum face security problem bitcoin greater complexity software . thus far , ethereum faced much le testing , many fewer attack , bitcoin . novel design ethereum may also invite intense scrutiny authority given potentially fraudulent contract , like ponzi scheme , written directly ethereum system . sophisticated capability system made fascinating executive corporate america . ibm said last year experimenting ethereum way control real world object so-called internet thing . microsoft working several project make easier use ethereum computing cloud , azure . `` ethereum general platform solve problem many industry using fairly elegant solution - elegant solution seen date , '' said marley gray , director business development strategy microsoft . mr. gray responsible microsoft 's work blockchains , database concept bitcoin introduced . blockchains designed store transaction data without requiring central authority repository . blockchain ledger generally maintained updated network computer working together - somewhat similar way wikipedia updated maintained user . many corporation , though , created ethereum network private blockchains , independent public system , could ultimately detract value individual unit ethereum system - known ether - people recently buying . interest ethereum one sign corporate fascination blockchains . major bank expressed interest using make trading money transfer faster efficient . tuesday , executive largest bank gather conference , `` blockchain : tapping nto real potential , cutting hype . '' many bank recently looking version ethereum might put use . jpmorgan , instance , created specific tool , masala , allows internal database interact ethereum blockchain . michael novogratz , former top executive private equity firm fortress investing group , helped lead fortress 's investment bitcoin , looking ethereum since left fortress last fall . mr. novogratz said made `` significant '' purchase ether january . also heard financial industry 's chatter virtual currency evolved . `` lot established player thinking , 'it 's still experiment , ' `` said . `` feel like last two three month experiment least getting lot validation . '' since beginning year , value individual unit ether soared high $ 12 around $ 1 . brought value existing ether $ 1 billion time , significantly virtual currency bitcoin , $ 6 billion value outstanding last week . since bitcoin invented , many so-called alt-coins tried improve bitcoin , none following ethereum . unlike bitcoin , released 2009 mysterious creator known satoshi nakamoto , ethereum created transparent fashion 21-year-old russian-canadian , vitalik buterin , dropped waterloo university ontario . basic aim ethereum make possible program binding agreement blockchain - smart contract concept . two people , instance , could program bet sport game directly ethereum blockchain . final score came mutually agreed upon source - say , associated press - money would automatically transferred winning party . ether used currency system , ether also necessary pay network power needed process bet . ethereum system sometimes described single shared computer run network user resource parceled paid ether . team seven co-founders helped mr. buterin write software released initial description system . mr. buterin 's team raised $ 18 million 2014 presale ether , helped fund ethereum foundation , support software 's development . like bitcoin , ethereum succeeded attracting dedicated network follower helped support software , partly hope ether increase value system succeeds . last week , 5,800 computer - node - helping support network around world . bitcoin network 7,400 node . one mr. buterin 's co-founders , joseph lubin , set consensys , company based brooklyn hired 50 developer build application ethereum system , including one enables music distribution another allows new kind financial auditing . consensys office old industrial building bushwick section brooklyn . office essentially one large room , messy trademark start-up operation , including white board wall computer part lying around . mr. lubin said thrown ethereum starting think delivered failed promise bitcoin , especially came allowing new kind online contract market . `` bitcoin presented broad stroke vision , ethereum presented crystallization deliver vision , '' said . joseph bonneau , computer science researcher stanford study so-called crypto-currencies , said ethereum first system really caught interest since bitcoin . far sure thing , cautioned . `` bitcoin still probably safest bet , ethereum certainly . 2 , folk say likely around 10 year , '' mr. bonneau said . `` depend real market develop around . actual application . ''\""
      ],
      "application/vnd.google.colaboratory.intrinsic+json": {
       "type": "string"
      }
     },
     "metadata": {},
     "execution_count": 36
    }
   ],
   "source": [
    "articles_df[\"preprocessed_text\"].iloc[0]"
   ]
  },
  {
   "cell_type": "code",
   "execution_count": 37,
   "metadata": {
    "id": "wMQrCk-7YBS5"
   },
   "outputs": [],
   "source": [
    "# Преобразуем предобработанный текст в TF-IDF матрицу признаков\n",
    "tfidf_vectorizer = TfidfVectorizer()\n",
    "item_features_matrix_preproc = tfidf_vectorizer.fit_transform(\n",
    "    articles_df[\"preprocessed_text\"]\n",
    ")"
   ]
  },
  {
   "cell_type": "code",
   "execution_count": 38,
   "metadata": {
    "colab": {
     "base_uri": "https://localhost:8080/"
    },
    "id": "z-AhCG3nYBU_",
    "outputId": "21715b19-706b-4873-f5cb-2ac47c4c6391"
   },
   "outputs": [
    {
     "output_type": "stream",
     "name": "stdout",
     "text": [
      "precision@10: 0.006415479\n"
     ]
    }
   ],
   "source": [
    "# Создаем и обучаем модель LightFM с использованием TF-IDF признаков\n",
    "model = LightFM(k=10, loss=\"warp\")\n",
    "model.fit(\n",
    "    data_train, item_features=item_features_matrix_preproc, epochs=50, num_threads=2\n",
    ")\n",
    "\n",
    "precision = precision_at_k(\n",
    "    model, data_test, data_train, item_features=item_features_matrix_preproc, k=10\n",
    ").mean()\n",
    "print(\"precision@10:\", precision)"
   ]
  },
  {
   "cell_type": "markdown",
   "metadata": {
    "id": "VgayAPRpqn7L"
   },
   "source": [
    "Улучшилось ли качество предсказания?"
   ]
  },
  {
   "cell_type": "markdown",
   "metadata": {
    "id": "Ne4I9sz7Z7Ai"
   },
   "source": [
    "Качество модели с предварительной предобработкой текста оказалось сопоставимым с качеством модели до предобработки текста. Думаю что все-таки нужно разобраться с препроцессингом различных языков, попробовать стемминг слов."
   ]
  },
  {
   "cell_type": "markdown",
   "metadata": {
    "id": "XKRzLLodq3gq"
   },
   "source": [
    "## Задание 5 (1.5 балла)"
   ]
  },
  {
   "cell_type": "markdown",
   "metadata": {
    "id": "brjHl49Aq8su"
   },
   "source": [
    "Подберите гиперпараметры модели LightFM (`n_components` и др.) для улучшения качества модели."
   ]
  },
  {
   "cell_type": "markdown",
   "metadata": {
    "id": "p2Krq0J3hmZf"
   },
   "source": [
    "https://stackoverflow.com/questions/49896816/how-do-i-optimize-the-hyperparameters-of-lightfm"
   ]
  },
  {
   "cell_type": "code",
   "execution_count": 39,
   "metadata": {
    "id": "ubX4MQ8Pia4Q"
   },
   "outputs": [],
   "source": [
    "import itertools\n",
    "from time import time"
   ]
  },
  {
   "cell_type": "code",
   "execution_count": 40,
   "metadata": {
    "id": "h69EDaEQhhlE"
   },
   "outputs": [],
   "source": [
    "def generate_hyperparameters():\n",
    "    \"\"\"\n",
    "    Подбор гиперпараметров.\n",
    "    \"\"\"\n",
    "\n",
    "    while True:\n",
    "        yield {\n",
    "            \"no_components\": np.random.randint(10, 100),\n",
    "            \"learning_schedule\": np.random.choice([\"adagrad\", \"adadelta\"]),\n",
    "            \"loss\": np.random.choice([\"bpr\", \"warp\", \"warp-kos\"]),\n",
    "            \"learning_rate\": np.random.exponential(0.05),\n",
    "            \"item_alpha\": np.random.exponential(1e-6),\n",
    "            \"user_alpha\": np.random.exponential(1e-6),\n",
    "            \"max_sampled\": np.random.randint(5, 30),\n",
    "            \"num_epochs\": np.random.randint(5, 30),\n",
    "        }"
   ]
  },
  {
   "cell_type": "code",
   "execution_count": 41,
   "metadata": {
    "id": "BKytAWrchenu"
   },
   "outputs": [],
   "source": [
    "def random_search(train_data, test_data, features, num_samples=10, num_threads=1):\n",
    "    for hyperparams in itertools.islice(generate_hyperparameters(), num_samples):\n",
    "        num_epochs = hyperparams.pop(\"num_epochs\")\n",
    "\n",
    "        model = LightFM(**hyperparams, k=10, random_state=0)\n",
    "        model.fit(\n",
    "            train_data,\n",
    "            epochs=num_epochs,\n",
    "            num_threads=num_threads,\n",
    "            item_features=features,\n",
    "        )\n",
    "\n",
    "        score = precision_at_k(\n",
    "            model,\n",
    "            test_data,\n",
    "            train_data,\n",
    "            item_features=features,\n",
    "            k=10,\n",
    "            num_threads=num_threads,\n",
    "        ).mean()\n",
    "\n",
    "        hyperparams[\"num_epochs\"] = num_epochs\n",
    "\n",
    "        yield (score, hyperparams, model)"
   ]
  },
  {
   "cell_type": "code",
   "execution_count": 42,
   "metadata": {
    "colab": {
     "base_uri": "https://localhost:8080/"
    },
    "id": "dSeXQhbJheqM",
    "outputId": "5d03539f-426c-4d87-c048-d4b5b409425e"
   },
   "outputs": [
    {
     "output_type": "stream",
     "name": "stdout",
     "text": [
      "Лучший результат 0.007230142597109079 at {'no_components': 81, 'learning_schedule': 'adadelta', 'loss': 'bpr', 'learning_rate': 0.19733034088225643, 'item_alpha': 3.701933204178711e-06, 'user_alpha': 1.7162298393966008e-06, 'max_sampled': 26, 'num_epochs': 26}\n",
      "CPU times: user 1h 50min 40s, sys: 6.1 s, total: 1h 50min 46s\n",
      "Wall time: 1h 2min 59s\n"
     ]
    }
   ],
   "source": [
    "%%time\n",
    "(score, hyperparams, model) = max(\n",
    "    random_search(data_train, data_test, item_features_matrix_preproc, num_threads=2),\n",
    "    key=lambda x: x[0],\n",
    ")\n",
    "print(\"Лучший результат {} at {}\".format(score, hyperparams))"
   ]
  },
  {
   "cell_type": "code",
   "source": [
    "# Лучший результат 0.007230142597109079 at {'no_components': 81,\n",
    "# 'learning_schedule': 'adadelta',\n",
    "# 'loss': 'bpr',\n",
    "# 'learning_rate': 0.19733034088225643,\n",
    "# 'item_alpha': 3.701933204178711e-06,\n",
    "# 'user_alpha': 1.7162298393966008e-06,\n",
    "# 'max_sampled': 26,\n",
    "# 'num_epochs': 26}\n",
    "# CPU times: user 1h 50min 40s, sys: 6.1 s, total: 1h 50min 46s\n",
    "# Wall time: 1h 2min 59s"
   ],
   "metadata": {
    "id": "l73vi0sAqNyP"
   },
   "execution_count": null,
   "outputs": []
  },
  {
   "cell_type": "code",
   "execution_count": 112,
   "metadata": {
    "id": "heJfvC0nhesf"
   },
   "outputs": [],
   "source": [
    "model_best = LightFM(\n",
    "    k=10,\n",
    "    no_components=81,\n",
    "    learning_schedule=\"adadelta\",\n",
    "    loss=\"bpr\",\n",
    "    learning_rate=0.19733034088225643,\n",
    "    item_alpha=3.701933204178711e-06,\n",
    "    user_alpha=1.7162298393966008e-06,\n",
    "    max_sampled=26,\n",
    ")"
   ]
  },
  {
   "cell_type": "code",
   "execution_count": 122,
   "metadata": {
    "colab": {
     "base_uri": "https://localhost:8080/"
    },
    "id": "k6BLN6vDheu3",
    "outputId": "b07e7b2f-c46e-404a-bad1-49731bf39300"
   },
   "outputs": [
    {
     "output_type": "stream",
     "name": "stdout",
     "text": [
      "precision@10: 0.007433809\n",
      "CPU times: user 24min 42s, sys: 1.56 s, total: 24min 44s\n",
      "Wall time: 15min 35s\n"
     ]
    }
   ],
   "source": [
    "%%time\n",
    "model_best.fit(\n",
    "    data_train, item_features=item_features_matrix_preproc, epochs=26, num_threads=4\n",
    ")\n",
    "\n",
    "precision = precision_at_k(\n",
    "    model_best, data_test, data_train, item_features=item_features_matrix_preproc, k=10\n",
    ").mean()\n",
    "print(\"precision@10:\", precision)"
   ]
  },
  {
   "cell_type": "markdown",
   "metadata": {
    "id": "6Si-lyuGoNlS"
   },
   "source": [
    "Подбором гиперпараметров не удалось поднять качество модели. Необходимо опробовать каждый набор гиперпараметров из конечных последовательностей, например - по сетке."
   ]
  },
  {
   "cell_type": "markdown",
   "metadata": {
    "id": "xJA7v07NrYSF"
   },
   "source": [
    "## Задание 6 (1 балл)"
   ]
  },
  {
   "cell_type": "markdown",
   "metadata": {
    "id": "veLFUoVRrisk"
   },
   "source": [
    "Реализуйте функции для вычисления следующих метрик:\n",
    "* precision@k\n",
    "* recall@k\n",
    "* NDCG@k\n",
    "\n"
   ]
  },
  {
   "cell_type": "code",
   "execution_count": 138,
   "metadata": {
    "id": "tL2Q6swAr7tu"
   },
   "outputs": [],
   "source": [
    "predictions = model_best.predict_rank(\n",
    "    data_test, item_features=item_features_matrix_preproc, num_threads=4\n",
    ")"
   ]
  },
  {
   "cell_type": "code",
   "execution_count": 139,
   "metadata": {
    "colab": {
     "base_uri": "https://localhost:8080/"
    },
    "id": "42NWbUb-fIrB",
    "outputId": "bf11e16a-b8f5-456f-dff4-f3d740b15b8a"
   },
   "outputs": [
    {
     "output_type": "stream",
     "name": "stdout",
     "text": [
      "user_predictions: [0. 0. 0. ... 0. 0. 0.]\n",
      "top_k_items: [1157  849 1353 2945 1037 2222   80 2954 2883  620]\n",
      "true_interactions: [  37   80  235  277  298  459  527  620  833  849 1037 1100 1157 1215\n",
      " 1268 1353 1542 1624 1647 1680 1715 1839 1849 2194 2212 2222 2387 2397\n",
      " 2422 2787 2831 2883 2945 2954]\n",
      "precision по одному пользователю с индексом 0: 1.0\n"
     ]
    }
   ],
   "source": [
    "usr_ind = 0\n",
    "k_itms = 10\n",
    "\n",
    "user_predictions = (\n",
    "    predictions[usr_ind].toarray().flatten()\n",
    ")  # Преобразование в массив и сглаживание\n",
    "print(\"user_predictions:\", user_predictions)\n",
    "\n",
    "top_k_items = np.argsort(user_predictions)[::-1][:k_itms]\n",
    "print(\"top_k_items:\", top_k_items)\n",
    "\n",
    "true_interactions = data_test.getrow(usr_ind).indices\n",
    "print(\"true_interactions:\", true_interactions)\n",
    "\n",
    "k_itms = min(k_itms, len(true_interactions))  # Обновляем k_itms\n",
    "\n",
    "correct_predictions = (\n",
    "    len(set(top_k_items).intersection(set(true_interactions))) / k_itms\n",
    ")\n",
    "\n",
    "print(f\"precision по одному пользователю с индексом {usr_ind}:\", correct_predictions)"
   ]
  },
  {
   "cell_type": "markdown",
   "source": [
    "Precision@k= Top-K релевантных элементов / K\n"
   ],
   "metadata": {
    "id": "5nqufreMF-W9"
   }
  },
  {
   "cell_type": "code",
   "execution_count": 125,
   "metadata": {
    "id": "fkZF0-4sCTkC"
   },
   "outputs": [],
   "source": [
    "def precision_at_k_imp(model, test_data, train_data, item_features, k=10):\n",
    "    predictions = model.predict_rank(\n",
    "        test_data, train_data, item_features=item_features, num_threads=1\n",
    "    )\n",
    "\n",
    "    precision = []\n",
    "\n",
    "    # Проходим по всем пользователям\n",
    "    for user_id in range(test_data.shape[0]):\n",
    "        user_predictions = predictions[user_id]\n",
    "\n",
    "        # Индексы объектов (items) с наибольшими предсказанными рейтингами\n",
    "        top_k_items = np.argsort(user_predictions.toarray())[0][::-1][:k]\n",
    "\n",
    "        # Истинные взаимодействия пользователя из тестовых данных\n",
    "        true_interactions = set(test_data.getrow(user_id).indices)\n",
    "\n",
    "        if true_interactions == 0:\n",
    "            continue\n",
    "\n",
    "        # Количество правильно предсказанных элементов в топе-K\n",
    "        correct_predictions = len(\n",
    "            set(top_k_items).intersection(true_interactions)\n",
    "        ) / min(len(true_interactions) + 0.001, k)\n",
    "\n",
    "        # # Добавляем точность для данного пользователя к общей точности\n",
    "        precision.append(correct_predictions)\n",
    "\n",
    "    # Вычисляем среднюю точность по всем пользователям\n",
    "    precision = np.sum(precision) / test_data.shape[0]\n",
    "\n",
    "    return precision"
   ]
  },
  {
   "cell_type": "markdown",
   "metadata": {
    "id": "LQFRhGoUw9Vk"
   },
   "source": [
    "В данном месте у меня возникли затруднения:\n",
    "- как обрабатывать случаи когда `true_interactions` меньше значения `k`;\n",
    "- и как быть в том случае если `true_interactions` == 0;\n",
    "\n",
    "От сюда вытекает проблема подсчета среднего. Среднее из всех наблюдений по `train` или только тех которые прошли обработку по условиям.\n",
    "\n",
    "Решил не отсекать наблюдения у которых `k` меньше заданного, считая что у данного пользователя просто не достаточно данных для оценки точности, а учитывать и их. Т.е. среднее считать относительно всех наблюдений, даже тех, где количество `true_interactions` равно нулю."
   ]
  },
  {
   "cell_type": "markdown",
   "source": [
    "Recall@k = Top-K релевантных элементов / Все релевантные элементы"
   ],
   "metadata": {
    "id": "KrQ7T3G3GlZf"
   }
  },
  {
   "cell_type": "code",
   "execution_count": 126,
   "metadata": {
    "id": "7EjUQi9H0JQr"
   },
   "outputs": [],
   "source": [
    "def recall_at_k_imp(model, test_data, train_data, item_features, k=10):\n",
    "    predictions = model.predict_rank(\n",
    "        test_data, train_data, item_features=item_features, num_threads=1\n",
    "    )\n",
    "\n",
    "    recall = []\n",
    "\n",
    "    for user_id in range(test_data.shape[0]):\n",
    "        user_predictions = predictions[user_id]\n",
    "\n",
    "        top_k_items = np.argsort(user_predictions.toarray())[0][::-1][:k]\n",
    "\n",
    "        true_interactions = set(test_data.getrow(user_id).indices)\n",
    "\n",
    "        relevant_items = len(true_interactions)\n",
    "\n",
    "        if relevant_items == 0:\n",
    "            continue\n",
    "\n",
    "        correct_predictions = len(set(top_k_items).intersection(true_interactions))\n",
    "\n",
    "        recall.append(correct_predictions / relevant_items)\n",
    "\n",
    "    if not recall:\n",
    "        return 0.0\n",
    "\n",
    "    recall = np.sum(recall) / test_data.shape[0]\n",
    "\n",
    "    return recall"
   ]
  },
  {
   "cell_type": "code",
   "execution_count": 127,
   "metadata": {
    "id": "r4Yd8CE1OvYG"
   },
   "outputs": [],
   "source": [
    "def ndcg_at_k(model, test_data, train_data, item_features, k=10):\n",
    "    predictions = model.predict_rank(\n",
    "        test_data, train_data, item_features=item_features, num_threads=1\n",
    "    )\n",
    "\n",
    "    ndcg = []\n",
    "\n",
    "    for user_id in range(test_data.shape[0]):\n",
    "        user_predictions = predictions[user_id]\n",
    "\n",
    "        top_k_items = np.argsort(user_predictions.toarray())[0][::-1][:k]\n",
    "\n",
    "        true_interactions = set(test_data.getrow(user_id).indices)\n",
    "\n",
    "        # Пропустим значения в которых k меньше заданного\n",
    "        if len(true_interactions) < k:\n",
    "            continue\n",
    "\n",
    "        # Ранги рекомендованных элементов\n",
    "        ranks = [\n",
    "            (\n",
    "                list(true_interactions).index(item_id) + 1\n",
    "                if item_id in true_interactions\n",
    "                else 0\n",
    "            )\n",
    "            for item_id in top_k_items\n",
    "        ]\n",
    "\n",
    "        # Discounted Cumulative Gain\n",
    "        dcg = np.sum([1.0 / np.log2(rank + 2) for rank in ranks])\n",
    "\n",
    "        # Порядок элементов для данного пользователя\n",
    "        ideal_ranks = np.arange(len(true_interactions)) + 1\n",
    "\n",
    "        # Ideal Discounted Cumulative Gain\n",
    "        idcg = np.sum([1.0 / np.log2(rank + 2) for rank in ideal_ranks])\n",
    "\n",
    "        # Вычисляем NDCG для данного пользователя и добавляем в список\n",
    "        ndcg.append(dcg / idcg)\n",
    "\n",
    "    # Вычисляем средний NDCG по всем пользователям\n",
    "    ndcg = np.mean(ndcg)\n",
    "\n",
    "    return ndcg"
   ]
  },
  {
   "cell_type": "markdown",
   "metadata": {
    "id": "YE5L-ise3Bq_"
   },
   "source": [
    "## Задание 7 (1 балл)"
   ]
  },
  {
   "cell_type": "markdown",
   "metadata": {
    "id": "7bqmjJMH3DB7"
   },
   "source": [
    "Вычислите значения реализованных метрик для $k=10$ для лучшей полученной модели в предыдущих шагах.\n",
    "\n",
    "Найдите уже реализованные варианты этих метрик в библиотеках lightfm и sklearn. Сравните полученные у вас значения метрик с результатами встроенных в библиотеки метрик."
   ]
  },
  {
   "cell_type": "markdown",
   "metadata": {
    "id": "L0NgFY_LK1Wn"
   },
   "source": [
    "Оценим метрики на Test"
   ]
  },
  {
   "cell_type": "code",
   "execution_count": 128,
   "metadata": {
    "colab": {
     "base_uri": "https://localhost:8080/"
    },
    "id": "ndU-W1kjCTmb",
    "outputId": "74d04ef6-4cd8-4f93-e23c-1e386b0119d2"
   },
   "outputs": [
    {
     "output_type": "stream",
     "name": "stdout",
     "text": [
      "Ручная реализация метрик на test\n",
      "Precision_imp@10: 0.8600866745660125\n",
      "Recall_imp@10: 0.7572131442257417\n",
      "NDCG_imp@10: 0.565920855869897\n"
     ]
    }
   ],
   "source": [
    "precision_imp = precision_at_k_imp(\n",
    "    model_best, data_test, data_train, item_features=item_features_matrix_preproc, k=10\n",
    ")\n",
    "recall_imp = recall_at_k_imp(\n",
    "    model_best, data_test, data_train, item_features=item_features_matrix_preproc, k=10\n",
    ")\n",
    "ndcg_imp = ndcg_at_k(\n",
    "    model_best, data_test, data_train, item_features=item_features_matrix_preproc, k=10\n",
    ")\n",
    "\n",
    "print(\"Ручная реализация метрик на test\")\n",
    "print(\"Precision_imp@10:\", precision_imp)\n",
    "print(\"Recall_imp@10:\", recall_imp)\n",
    "print(\"NDCG_imp@10:\", ndcg_imp)"
   ]
  },
  {
   "cell_type": "code",
   "execution_count": 129,
   "metadata": {
    "id": "Vs3x2O5Z3Cgo",
    "colab": {
     "base_uri": "https://localhost:8080/"
    },
    "outputId": "5d76806f-16c4-4beb-ea16-c4bfc39ecf7d"
   },
   "outputs": [
    {
     "output_type": "stream",
     "name": "stdout",
     "text": [
      "Библиотечная реализация метрик на test\n",
      "Precision@10: 0.007433809\n",
      "Recall@10: 0.008381488176304715\n",
      "NDCG@10: 0.7630191378985153\n"
     ]
    }
   ],
   "source": [
    "from lightfm.evaluation import precision_at_k, recall_at_k\n",
    "from sklearn.metrics import ndcg_score\n",
    "\n",
    "precision_lightfm = precision_at_k(\n",
    "    model_best,\n",
    "    data_test,\n",
    "    train_interactions=data_train,\n",
    "    item_features=item_features_matrix_preproc,\n",
    "    k=10,\n",
    ").mean()\n",
    "\n",
    "recall_lightfm = recall_at_k(\n",
    "    model_best,\n",
    "    data_test,\n",
    "    train_interactions=data_train,\n",
    "    item_features=item_features_matrix_preproc,\n",
    "    k=10,\n",
    ").mean()\n",
    "\n",
    "predict = model_best.predict_rank(\n",
    "    data_test, data_train, item_features=item_features_matrix_preproc\n",
    ")\n",
    "data_test_dense = data_test.toarray().copy()\n",
    "ndcg_lightfm = np.mean(ndcg_score(data_test_dense, predict.toarray(), k=10))\n",
    "\n",
    "print(\"Библиотечная реализация метрик на test\")\n",
    "print(\"Precision@10:\", precision_lightfm)\n",
    "print(\"Recall@10:\", recall_lightfm)\n",
    "print(\"NDCG@10:\", ndcg_lightfm)"
   ]
  },
  {
   "cell_type": "markdown",
   "metadata": {
    "id": "C0Qhbvy9K6tB"
   },
   "source": [
    "Оценим метрики на Train"
   ]
  },
  {
   "cell_type": "code",
   "execution_count": 130,
   "metadata": {
    "colab": {
     "base_uri": "https://localhost:8080/"
    },
    "id": "p6YeJ-sPLFWW",
    "outputId": "fa012fc8-bc7d-46db-8157-b5cbdd0ed220"
   },
   "outputs": [
    {
     "output_type": "stream",
     "name": "stdout",
     "text": [
      "Ручная реализация метрик на train\n",
      "Precision_imp@10: 0.885739205681781\n",
      "Recall_imp@10: 0.6068588701183879\n",
      "NDCG_imp@10: 0.4880700073767989\n"
     ]
    }
   ],
   "source": [
    "precision_imp = precision_at_k_imp(\n",
    "    model_best, data_train, None, item_features=item_features_matrix_preproc, k=10\n",
    ")\n",
    "recall_imp = recall_at_k_imp(\n",
    "    model_best, data_train, None, item_features=item_features_matrix_preproc, k=10\n",
    ")\n",
    "ndcg_imp = ndcg_at_k(\n",
    "    model_best, data_train, None, item_features=item_features_matrix_preproc, k=10\n",
    ")\n",
    "\n",
    "print(\"Ручная реализация метрик на train\")\n",
    "print(\"Precision_imp@10:\", precision_imp)\n",
    "print(\"Recall_imp@10:\", recall_imp)\n",
    "print(\"NDCG_imp@10:\", ndcg_imp)"
   ]
  },
  {
   "cell_type": "code",
   "execution_count": 131,
   "metadata": {
    "id": "7hG1Fp6wE5gH",
    "colab": {
     "base_uri": "https://localhost:8080/"
    },
    "outputId": "d7472205-0729-4322-c311-39a63ab1a1a2"
   },
   "outputs": [
    {
     "output_type": "stream",
     "name": "stdout",
     "text": [
      "Библиотечная реализация метрик на train\n",
      "Precision@10: 0.5693345\n",
      "Recall@10: 0.5416256219950102\n",
      "NDCG@10: 0.708719061942834\n"
     ]
    }
   ],
   "source": [
    "precision_lightfm = precision_at_k(\n",
    "    model_best, data_train, item_features=item_features_matrix_preproc, k=10\n",
    ").mean()\n",
    "recall_lightfm = recall_at_k(\n",
    "    model_best, data_train, item_features=item_features_matrix_preproc, k=10\n",
    ").mean()\n",
    "\n",
    "predict = model_best.predict_rank(\n",
    "    data_train, item_features=item_features_matrix_preproc\n",
    ")\n",
    "data_train_dense = data_train.toarray().copy()\n",
    "ndcg_lightfm = np.mean(ndcg_score(data_train_dense, predict.toarray(), k=10))\n",
    "\n",
    "print(\"Библиотечная реализация метрик на train\")\n",
    "print(\"Precision@10:\", precision_lightfm)\n",
    "print(\"Recall@10:\", recall_lightfm)\n",
    "print(\"NDCG@10:\", ndcg_lightfm)"
   ]
  },
  {
   "cell_type": "markdown",
   "metadata": {
    "id": "sfeqHhkZD1DA"
   },
   "source": [
    "Результаты сильно отличаются, в случае библиотечной реализации и ручной. Вероятнее всего ошибка в выборе метода `.predict_rank` и в том что не отсекаются наблюдения у которых `k` меньше заданного."
   ]
  },
  {
   "cell_type": "markdown",
   "metadata": {
    "id": "t78oSTQz3Y6u"
   },
   "source": [
    "## Задание 8 (1 балл)\n",
    "\n",
    "Реализуйте алгоритм ALS и примените его для решения задачи ноутбука."
   ]
  },
  {
   "cell_type": "markdown",
   "metadata": {
    "id": "voZ9GsE54EZT"
   },
   "source": [
    "**ALS**\n",
    "\n",
    "Итак, поставлена задача построения модели со скрытыми переменными (latent factor model) для коллаборативной фильтрации:\n",
    "\n",
    "$$ \\sum_{u,i} (r_{ui} - \\langle p_u, q_i \\rangle)^2 \\to \\min_{P,Q}$$\n",
    "\n",
    "Суммирование ведется по всем парам $(u, i),$ для которых известен рейтинг $r_{ui}$ (и только по ним), а $p_u, q_i$ – латентные представления пользователя~$u$ и товара $i$, соответственно, матрицы $P, Q$ получаются путем записывания по столбцам векторов $p_u, q_i$ соответственно.\n",
    "\n",
    "Подход ALS (Alternating Least Squares) решает задачу, попеременно фиксируя матрицы $P$ и $Q$, — оказывается, что, зафиксировав одну из матриц, можно выписать аналитическое решение задачи для другой.\n",
    "\n",
    "$$\\nabla_{p_u} \\bigg[ \\sum_{u,i} (r_{ui} - \\langle p_u, q_i \\rangle)^2 \\bigg] = \\sum_{i} 2(r_{ui} - \\langle p_u, q_i \\rangle)q_i = 0$$\n",
    "\n",
    "Воспользовавшись тем, что $a^Tbc = cb^Ta$, получим\n",
    "$$\\sum_{i} r_{ui}q_i - \\sum_i q_i q_i^T p_u = 0.$$\n",
    "\n",
    "Тогда окончательно каждый столбец матрицы $P$ можно найти по формуле\n",
    "$$p_u = \\bigg( \\sum_i q_i q_i^T\\bigg)^{-1}\\sum_ir_{ui}q_i \\;\\; \\forall u,$$\n",
    "\n",
    "аналогично для столбцов матрицы $Q$\n",
    "$$q_i = \\bigg( \\sum_u p_u p_u^T\\bigg)^{-1}\\sum_ur_{ui}p_u \\;\\; \\forall i.$$\n",
    "\n",
    "Таким образом мы можем решать оптимизационную задачу, поочередно фиксируя одну из матриц $P$ или $Q$ и проводя оптимизацию по второй.\n",
    "\n",
    "**Оригинальная статья c постановкой задачи для ALS на explicit feedback:**\n",
    "\n",
    "* Bell, R.M. and Koren, Y., 2007, October. Scalable collaborative filtering with jointly derived neighborhood interpolation weights. In Seventh IEEE international conference on data mining (ICDM 2007) (pp. 43-52). IEEE.\n",
    "\n",
    "**Оригинальная статья с ALS для implicit данных, которая стала более известной:**\n",
    "\n",
    "* Hu, Y., Koren, Y. and Volinsky, C., 2008, December. Collaborative filtering for implicit feedback datasets. In 2008 Eighth IEEE international conference on data mining (pp. 263-272). Ieee.\n"
   ]
  },
  {
   "cell_type": "code",
   "source": [
    "class ALS:\n",
    "    def __init__(self, num_factors=10, num_iterations=10, lambda_reg=0.01):\n",
    "        self.num_factors = num_factors\n",
    "        self.num_iterations = num_iterations\n",
    "        self.lambda_reg = lambda_reg\n",
    "\n",
    "    def fit(self, train_matrix):\n",
    "        self.train_matrix = train_matrix\n",
    "        self.num_users, self.num_items = train_matrix.shape\n",
    "\n",
    "        self.train_matrix = self.train_matrix.tocsr()\n",
    "\n",
    "        train_matrix_dense = self.train_matrix.toarray()\n",
    "\n",
    "        self.P = np.random.rand(self.num_users, self.num_factors)\n",
    "        self.Q = np.random.rand(self.num_items, self.num_factors)\n",
    "\n",
    "        for _ in range(self.num_iterations):\n",
    "            # Обновим P\n",
    "            for u in range(self.num_users):\n",
    "                self.P[u, :] = np.linalg.solve(\n",
    "                    np.dot(self.Q.T, self.Q)\n",
    "                    + self.lambda_reg * np.eye(self.num_factors),\n",
    "                    np.dot(self.Q.T, train_matrix_dense[u, :].T),\n",
    "                )\n",
    "            # Обновим Q\n",
    "            for i in range(self.num_items):\n",
    "                self.Q[i, :] = np.linalg.solve(\n",
    "                    np.dot(self.P.T, self.P)\n",
    "                    + self.lambda_reg * np.eye(self.num_factors),\n",
    "                    np.dot(self.P.T, train_matrix_dense[:, i]),\n",
    "                )\n",
    "\n",
    "    def predict(self, user_id, item_id):\n",
    "        return np.dot(self.P[user_id], self.Q[item_id])"
   ],
   "metadata": {
    "id": "uRu9JLfK0KeE"
   },
   "execution_count": 132,
   "outputs": []
  },
  {
   "cell_type": "code",
   "source": [
    "def get_predictions(model, test_matrix):\n",
    "    num_users, num_items = test_matrix.shape\n",
    "    predictions = np.zeros((num_users, num_items))\n",
    "    for user_id in range(num_users):\n",
    "        for item_id in range(num_items):\n",
    "            predictions[user_id, item_id] = model.predict(user_id, item_id)\n",
    "    return predictions\n",
    "\n",
    "\n",
    "def precision_at_k(predictions, test_matrix, k=10):\n",
    "    num_users = test_matrix.shape[0]\n",
    "    precision_sum = 0\n",
    "    for user_id in range(num_users):\n",
    "        top_k_items = np.argsort(predictions[user_id])[::-1][:k]\n",
    "        true_interactions = test_matrix[user_id].indices\n",
    "        num_correct_predictions = len(\n",
    "            set(top_k_items).intersection(set(true_interactions))\n",
    "        )\n",
    "        precision_sum += num_correct_predictions / k\n",
    "    return precision_sum / num_users"
   ],
   "metadata": {
    "id": "mMdvaoIl0zhn"
   },
   "execution_count": 133,
   "outputs": []
  },
  {
   "cell_type": "code",
   "source": [
    "als_model = ALS(num_factors=20, num_iterations=10, lambda_reg=0.1)\n",
    "\n",
    "als_model.fit(data_train)"
   ],
   "metadata": {
    "id": "AFFh4p5e0KgP"
   },
   "execution_count": 134,
   "outputs": []
  },
  {
   "cell_type": "code",
   "source": [
    "# Получаем предсказания для всех пользователей из data_test\n",
    "predictions = get_predictions(als_model, data_test)"
   ],
   "metadata": {
    "id": "ox9ZosDK0zjw"
   },
   "execution_count": 135,
   "outputs": []
  },
  {
   "cell_type": "code",
   "source": [
    "precision = precision_at_k(predictions, data_test)\n",
    "print(\"Precision по k:\", precision)"
   ],
   "metadata": {
    "colab": {
     "base_uri": "https://localhost:8080/"
    },
    "id": "R4M7apd007DX",
    "outputId": "07effe68-1edd-4195-d9d7-d161befc99e6"
   },
   "execution_count": 136,
   "outputs": [
    {
     "output_type": "stream",
     "name": "stdout",
     "text": [
      "Precision по k: 0.0035964912280701767\n"
     ]
    }
   ]
  },
  {
   "cell_type": "code",
   "source": [],
   "metadata": {
    "id": "J7jcUm5e3sbM"
   },
   "execution_count": null,
   "outputs": []
  }
 ],
 "metadata": {
  "colab": {
   "provenance": []
  },
  "kernelspec": {
   "display_name": "Python 3",
   "name": "python3"
  },
  "language_info": {
   "codemirror_mode": {
    "name": "ipython",
    "version": 3
   },
   "file_extension": ".py",
   "mimetype": "text/x-python",
   "name": "python",
   "nbconvert_exporter": "python",
   "pygments_lexer": "ipython3",
   "version": "3.9.10"
  }
 },
 "nbformat": 4,
 "nbformat_minor": 0
}